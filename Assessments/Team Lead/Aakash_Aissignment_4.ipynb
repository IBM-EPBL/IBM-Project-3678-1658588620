{
  "cells": [
    {
      "cell_type": "code",
      "execution_count": null,
      "metadata": {
        "id": "PSCA5Dg4AmhT"
      },
      "outputs": [],
      "source": [
        "import pandas as pd\n",
        "import numpy as np\n",
        "import matplotlib.pyplot as plt\n",
        "import seaborn as sns"
      ]
    },
    {
      "cell_type": "code",
      "execution_count": null,
      "metadata": {
        "id": "9Bs1f2tsBqfi"
      },
      "outputs": [],
      "source": [
        "# load the dataset"
      ]
    },
    {
      "cell_type": "code",
      "execution_count": null,
      "metadata": {
        "id": "94fv6EdLAo1S"
      },
      "outputs": [],
      "source": [
        "data=pd.read_excel('/content/drive/MyDrive/Datasets/Mall_Customers.xlsx')"
      ]
    },
    {
      "cell_type": "code",
      "execution_count": null,
      "metadata": {
        "colab": {
          "base_uri": "https://localhost:8080/",
          "height": 206
        },
        "id": "V-GpobvZApdp",
        "outputId": "f9a0673a-6775-4aae-b077-508f8e419632"
      },
      "outputs": [
        {
          "output_type": "execute_result",
          "data": {
            "text/plain": [
              "   CustomerID  Gender  Age  Annual Income (k$)  Spending Score (1-100)\n",
              "0           1    Male   19                  15                      39\n",
              "1           2    Male   21                  15                      81\n",
              "2           3  Female   20                  16                       6\n",
              "3           4  Female   23                  16                      77\n",
              "4           5  Female   31                  17                      40"
            ],
            "text/html": [
              "\n",
              "  <div id=\"df-58a1f77f-0d19-411e-a692-36b5972bcf87\">\n",
              "    <div class=\"colab-df-container\">\n",
              "      <div>\n",
              "<style scoped>\n",
              "    .dataframe tbody tr th:only-of-type {\n",
              "        vertical-align: middle;\n",
              "    }\n",
              "\n",
              "    .dataframe tbody tr th {\n",
              "        vertical-align: top;\n",
              "    }\n",
              "\n",
              "    .dataframe thead th {\n",
              "        text-align: right;\n",
              "    }\n",
              "</style>\n",
              "<table border=\"1\" class=\"dataframe\">\n",
              "  <thead>\n",
              "    <tr style=\"text-align: right;\">\n",
              "      <th></th>\n",
              "      <th>CustomerID</th>\n",
              "      <th>Gender</th>\n",
              "      <th>Age</th>\n",
              "      <th>Annual Income (k$)</th>\n",
              "      <th>Spending Score (1-100)</th>\n",
              "    </tr>\n",
              "  </thead>\n",
              "  <tbody>\n",
              "    <tr>\n",
              "      <th>0</th>\n",
              "      <td>1</td>\n",
              "      <td>Male</td>\n",
              "      <td>19</td>\n",
              "      <td>15</td>\n",
              "      <td>39</td>\n",
              "    </tr>\n",
              "    <tr>\n",
              "      <th>1</th>\n",
              "      <td>2</td>\n",
              "      <td>Male</td>\n",
              "      <td>21</td>\n",
              "      <td>15</td>\n",
              "      <td>81</td>\n",
              "    </tr>\n",
              "    <tr>\n",
              "      <th>2</th>\n",
              "      <td>3</td>\n",
              "      <td>Female</td>\n",
              "      <td>20</td>\n",
              "      <td>16</td>\n",
              "      <td>6</td>\n",
              "    </tr>\n",
              "    <tr>\n",
              "      <th>3</th>\n",
              "      <td>4</td>\n",
              "      <td>Female</td>\n",
              "      <td>23</td>\n",
              "      <td>16</td>\n",
              "      <td>77</td>\n",
              "    </tr>\n",
              "    <tr>\n",
              "      <th>4</th>\n",
              "      <td>5</td>\n",
              "      <td>Female</td>\n",
              "      <td>31</td>\n",
              "      <td>17</td>\n",
              "      <td>40</td>\n",
              "    </tr>\n",
              "  </tbody>\n",
              "</table>\n",
              "</div>\n",
              "      <button class=\"colab-df-convert\" onclick=\"convertToInteractive('df-58a1f77f-0d19-411e-a692-36b5972bcf87')\"\n",
              "              title=\"Convert this dataframe to an interactive table.\"\n",
              "              style=\"display:none;\">\n",
              "        \n",
              "  <svg xmlns=\"http://www.w3.org/2000/svg\" height=\"24px\"viewBox=\"0 0 24 24\"\n",
              "       width=\"24px\">\n",
              "    <path d=\"M0 0h24v24H0V0z\" fill=\"none\"/>\n",
              "    <path d=\"M18.56 5.44l.94 2.06.94-2.06 2.06-.94-2.06-.94-.94-2.06-.94 2.06-2.06.94zm-11 1L8.5 8.5l.94-2.06 2.06-.94-2.06-.94L8.5 2.5l-.94 2.06-2.06.94zm10 10l.94 2.06.94-2.06 2.06-.94-2.06-.94-.94-2.06-.94 2.06-2.06.94z\"/><path d=\"M17.41 7.96l-1.37-1.37c-.4-.4-.92-.59-1.43-.59-.52 0-1.04.2-1.43.59L10.3 9.45l-7.72 7.72c-.78.78-.78 2.05 0 2.83L4 21.41c.39.39.9.59 1.41.59.51 0 1.02-.2 1.41-.59l7.78-7.78 2.81-2.81c.8-.78.8-2.07 0-2.86zM5.41 20L4 18.59l7.72-7.72 1.47 1.35L5.41 20z\"/>\n",
              "  </svg>\n",
              "      </button>\n",
              "      \n",
              "  <style>\n",
              "    .colab-df-container {\n",
              "      display:flex;\n",
              "      flex-wrap:wrap;\n",
              "      gap: 12px;\n",
              "    }\n",
              "\n",
              "    .colab-df-convert {\n",
              "      background-color: #E8F0FE;\n",
              "      border: none;\n",
              "      border-radius: 50%;\n",
              "      cursor: pointer;\n",
              "      display: none;\n",
              "      fill: #1967D2;\n",
              "      height: 32px;\n",
              "      padding: 0 0 0 0;\n",
              "      width: 32px;\n",
              "    }\n",
              "\n",
              "    .colab-df-convert:hover {\n",
              "      background-color: #E2EBFA;\n",
              "      box-shadow: 0px 1px 2px rgba(60, 64, 67, 0.3), 0px 1px 3px 1px rgba(60, 64, 67, 0.15);\n",
              "      fill: #174EA6;\n",
              "    }\n",
              "\n",
              "    [theme=dark] .colab-df-convert {\n",
              "      background-color: #3B4455;\n",
              "      fill: #D2E3FC;\n",
              "    }\n",
              "\n",
              "    [theme=dark] .colab-df-convert:hover {\n",
              "      background-color: #434B5C;\n",
              "      box-shadow: 0px 1px 3px 1px rgba(0, 0, 0, 0.15);\n",
              "      filter: drop-shadow(0px 1px 2px rgba(0, 0, 0, 0.3));\n",
              "      fill: #FFFFFF;\n",
              "    }\n",
              "  </style>\n",
              "\n",
              "      <script>\n",
              "        const buttonEl =\n",
              "          document.querySelector('#df-58a1f77f-0d19-411e-a692-36b5972bcf87 button.colab-df-convert');\n",
              "        buttonEl.style.display =\n",
              "          google.colab.kernel.accessAllowed ? 'block' : 'none';\n",
              "\n",
              "        async function convertToInteractive(key) {\n",
              "          const element = document.querySelector('#df-58a1f77f-0d19-411e-a692-36b5972bcf87');\n",
              "          const dataTable =\n",
              "            await google.colab.kernel.invokeFunction('convertToInteractive',\n",
              "                                                     [key], {});\n",
              "          if (!dataTable) return;\n",
              "\n",
              "          const docLinkHtml = 'Like what you see? Visit the ' +\n",
              "            '<a target=\"_blank\" href=https://colab.research.google.com/notebooks/data_table.ipynb>data table notebook</a>'\n",
              "            + ' to learn more about interactive tables.';\n",
              "          element.innerHTML = '';\n",
              "          dataTable['output_type'] = 'display_data';\n",
              "          await google.colab.output.renderOutput(dataTable, element);\n",
              "          const docLink = document.createElement('div');\n",
              "          docLink.innerHTML = docLinkHtml;\n",
              "          element.appendChild(docLink);\n",
              "        }\n",
              "      </script>\n",
              "    </div>\n",
              "  </div>\n",
              "  "
            ]
          },
          "metadata": {},
          "execution_count": 3
        }
      ],
      "source": [
        "data.head()"
      ]
    },
    {
      "cell_type": "code",
      "execution_count": null,
      "metadata": {
        "colab": {
          "base_uri": "https://localhost:8080/",
          "height": 300
        },
        "id": "UkvnmUDDApuW",
        "outputId": "b810c1bd-6cfd-4e6e-e9d3-9095236b7daf"
      },
      "outputs": [
        {
          "output_type": "execute_result",
          "data": {
            "text/plain": [
              "       CustomerID         Age  Annual Income (k$)  Spending Score (1-100)\n",
              "count  200.000000  200.000000          200.000000              200.000000\n",
              "mean   100.500000   38.850000           60.560000               50.200000\n",
              "std     57.879185   13.969007           26.264721               25.823522\n",
              "min      1.000000   18.000000           15.000000                1.000000\n",
              "25%     50.750000   28.750000           41.500000               34.750000\n",
              "50%    100.500000   36.000000           61.500000               50.000000\n",
              "75%    150.250000   49.000000           78.000000               73.000000\n",
              "max    200.000000   70.000000          137.000000               99.000000"
            ],
            "text/html": [
              "\n",
              "  <div id=\"df-0afd6e97-4a84-4a86-a35f-a27b5ff403cf\">\n",
              "    <div class=\"colab-df-container\">\n",
              "      <div>\n",
              "<style scoped>\n",
              "    .dataframe tbody tr th:only-of-type {\n",
              "        vertical-align: middle;\n",
              "    }\n",
              "\n",
              "    .dataframe tbody tr th {\n",
              "        vertical-align: top;\n",
              "    }\n",
              "\n",
              "    .dataframe thead th {\n",
              "        text-align: right;\n",
              "    }\n",
              "</style>\n",
              "<table border=\"1\" class=\"dataframe\">\n",
              "  <thead>\n",
              "    <tr style=\"text-align: right;\">\n",
              "      <th></th>\n",
              "      <th>CustomerID</th>\n",
              "      <th>Age</th>\n",
              "      <th>Annual Income (k$)</th>\n",
              "      <th>Spending Score (1-100)</th>\n",
              "    </tr>\n",
              "  </thead>\n",
              "  <tbody>\n",
              "    <tr>\n",
              "      <th>count</th>\n",
              "      <td>200.000000</td>\n",
              "      <td>200.000000</td>\n",
              "      <td>200.000000</td>\n",
              "      <td>200.000000</td>\n",
              "    </tr>\n",
              "    <tr>\n",
              "      <th>mean</th>\n",
              "      <td>100.500000</td>\n",
              "      <td>38.850000</td>\n",
              "      <td>60.560000</td>\n",
              "      <td>50.200000</td>\n",
              "    </tr>\n",
              "    <tr>\n",
              "      <th>std</th>\n",
              "      <td>57.879185</td>\n",
              "      <td>13.969007</td>\n",
              "      <td>26.264721</td>\n",
              "      <td>25.823522</td>\n",
              "    </tr>\n",
              "    <tr>\n",
              "      <th>min</th>\n",
              "      <td>1.000000</td>\n",
              "      <td>18.000000</td>\n",
              "      <td>15.000000</td>\n",
              "      <td>1.000000</td>\n",
              "    </tr>\n",
              "    <tr>\n",
              "      <th>25%</th>\n",
              "      <td>50.750000</td>\n",
              "      <td>28.750000</td>\n",
              "      <td>41.500000</td>\n",
              "      <td>34.750000</td>\n",
              "    </tr>\n",
              "    <tr>\n",
              "      <th>50%</th>\n",
              "      <td>100.500000</td>\n",
              "      <td>36.000000</td>\n",
              "      <td>61.500000</td>\n",
              "      <td>50.000000</td>\n",
              "    </tr>\n",
              "    <tr>\n",
              "      <th>75%</th>\n",
              "      <td>150.250000</td>\n",
              "      <td>49.000000</td>\n",
              "      <td>78.000000</td>\n",
              "      <td>73.000000</td>\n",
              "    </tr>\n",
              "    <tr>\n",
              "      <th>max</th>\n",
              "      <td>200.000000</td>\n",
              "      <td>70.000000</td>\n",
              "      <td>137.000000</td>\n",
              "      <td>99.000000</td>\n",
              "    </tr>\n",
              "  </tbody>\n",
              "</table>\n",
              "</div>\n",
              "      <button class=\"colab-df-convert\" onclick=\"convertToInteractive('df-0afd6e97-4a84-4a86-a35f-a27b5ff403cf')\"\n",
              "              title=\"Convert this dataframe to an interactive table.\"\n",
              "              style=\"display:none;\">\n",
              "        \n",
              "  <svg xmlns=\"http://www.w3.org/2000/svg\" height=\"24px\"viewBox=\"0 0 24 24\"\n",
              "       width=\"24px\">\n",
              "    <path d=\"M0 0h24v24H0V0z\" fill=\"none\"/>\n",
              "    <path d=\"M18.56 5.44l.94 2.06.94-2.06 2.06-.94-2.06-.94-.94-2.06-.94 2.06-2.06.94zm-11 1L8.5 8.5l.94-2.06 2.06-.94-2.06-.94L8.5 2.5l-.94 2.06-2.06.94zm10 10l.94 2.06.94-2.06 2.06-.94-2.06-.94-.94-2.06-.94 2.06-2.06.94z\"/><path d=\"M17.41 7.96l-1.37-1.37c-.4-.4-.92-.59-1.43-.59-.52 0-1.04.2-1.43.59L10.3 9.45l-7.72 7.72c-.78.78-.78 2.05 0 2.83L4 21.41c.39.39.9.59 1.41.59.51 0 1.02-.2 1.41-.59l7.78-7.78 2.81-2.81c.8-.78.8-2.07 0-2.86zM5.41 20L4 18.59l7.72-7.72 1.47 1.35L5.41 20z\"/>\n",
              "  </svg>\n",
              "      </button>\n",
              "      \n",
              "  <style>\n",
              "    .colab-df-container {\n",
              "      display:flex;\n",
              "      flex-wrap:wrap;\n",
              "      gap: 12px;\n",
              "    }\n",
              "\n",
              "    .colab-df-convert {\n",
              "      background-color: #E8F0FE;\n",
              "      border: none;\n",
              "      border-radius: 50%;\n",
              "      cursor: pointer;\n",
              "      display: none;\n",
              "      fill: #1967D2;\n",
              "      height: 32px;\n",
              "      padding: 0 0 0 0;\n",
              "      width: 32px;\n",
              "    }\n",
              "\n",
              "    .colab-df-convert:hover {\n",
              "      background-color: #E2EBFA;\n",
              "      box-shadow: 0px 1px 2px rgba(60, 64, 67, 0.3), 0px 1px 3px 1px rgba(60, 64, 67, 0.15);\n",
              "      fill: #174EA6;\n",
              "    }\n",
              "\n",
              "    [theme=dark] .colab-df-convert {\n",
              "      background-color: #3B4455;\n",
              "      fill: #D2E3FC;\n",
              "    }\n",
              "\n",
              "    [theme=dark] .colab-df-convert:hover {\n",
              "      background-color: #434B5C;\n",
              "      box-shadow: 0px 1px 3px 1px rgba(0, 0, 0, 0.15);\n",
              "      filter: drop-shadow(0px 1px 2px rgba(0, 0, 0, 0.3));\n",
              "      fill: #FFFFFF;\n",
              "    }\n",
              "  </style>\n",
              "\n",
              "      <script>\n",
              "        const buttonEl =\n",
              "          document.querySelector('#df-0afd6e97-4a84-4a86-a35f-a27b5ff403cf button.colab-df-convert');\n",
              "        buttonEl.style.display =\n",
              "          google.colab.kernel.accessAllowed ? 'block' : 'none';\n",
              "\n",
              "        async function convertToInteractive(key) {\n",
              "          const element = document.querySelector('#df-0afd6e97-4a84-4a86-a35f-a27b5ff403cf');\n",
              "          const dataTable =\n",
              "            await google.colab.kernel.invokeFunction('convertToInteractive',\n",
              "                                                     [key], {});\n",
              "          if (!dataTable) return;\n",
              "\n",
              "          const docLinkHtml = 'Like what you see? Visit the ' +\n",
              "            '<a target=\"_blank\" href=https://colab.research.google.com/notebooks/data_table.ipynb>data table notebook</a>'\n",
              "            + ' to learn more about interactive tables.';\n",
              "          element.innerHTML = '';\n",
              "          dataTable['output_type'] = 'display_data';\n",
              "          await google.colab.output.renderOutput(dataTable, element);\n",
              "          const docLink = document.createElement('div');\n",
              "          docLink.innerHTML = docLinkHtml;\n",
              "          element.appendChild(docLink);\n",
              "        }\n",
              "      </script>\n",
              "    </div>\n",
              "  </div>\n",
              "  "
            ]
          },
          "metadata": {},
          "execution_count": 4
        }
      ],
      "source": [
        "data.describe()"
      ]
    },
    {
      "cell_type": "code",
      "execution_count": null,
      "metadata": {
        "colab": {
          "base_uri": "https://localhost:8080/"
        },
        "id": "3dpjc--JAp8m",
        "outputId": "baf81dfc-b7a2-47f7-d09f-0f07b99930da"
      },
      "outputs": [
        {
          "output_type": "stream",
          "name": "stdout",
          "text": [
            "<class 'pandas.core.frame.DataFrame'>\n",
            "RangeIndex: 200 entries, 0 to 199\n",
            "Data columns (total 5 columns):\n",
            " #   Column                  Non-Null Count  Dtype \n",
            "---  ------                  --------------  ----- \n",
            " 0   CustomerID              200 non-null    int64 \n",
            " 1   Gender                  200 non-null    object\n",
            " 2   Age                     200 non-null    int64 \n",
            " 3   Annual Income (k$)      200 non-null    int64 \n",
            " 4   Spending Score (1-100)  200 non-null    int64 \n",
            "dtypes: int64(4), object(1)\n",
            "memory usage: 7.9+ KB\n"
          ]
        }
      ],
      "source": [
        "data.info()"
      ]
    },
    {
      "cell_type": "code",
      "execution_count": null,
      "metadata": {
        "id": "3jagF32cAqLL"
      },
      "outputs": [],
      "source": [
        "# univariative analysis"
      ]
    },
    {
      "cell_type": "code",
      "execution_count": null,
      "metadata": {
        "colab": {
          "base_uri": "https://localhost:8080/",
          "height": 282
        },
        "id": "ykl9VbdQEs0B",
        "outputId": "8ec83eff-5839-4a9b-9375-35c966b449f3"
      },
      "outputs": [
        {
          "output_type": "execute_result",
          "data": {
            "text/plain": [
              "<matplotlib.axes._subplots.AxesSubplot at 0x7f9991c6d650>"
            ]
          },
          "metadata": {},
          "execution_count": 6
        },
        {
          "output_type": "display_data",
          "data": {
            "text/plain": [
              "<Figure size 432x288 with 1 Axes>"
            ],
            "image/png": "[encoded data removed]"
          },
          "metadata": {
            "needs_background": "light"
          }
        }
      ],
      "source": [
        "data['Age'].plot(kind='hist')"
      ]
    },
    {
      "cell_type": "code",
      "execution_count": null,
      "metadata": {
        "colab": {
          "base_uri": "https://localhost:8080/",
          "height": 404
        },
        "id": "zfLB8sZ9Aqaz",
        "outputId": "37ab85e0-8d1d-4c7e-bb76-76f294e7a698"
      },
      "outputs": [
        {
          "output_type": "execute_result",
          "data": {
            "text/plain": [
              "{'whiskers': [<matplotlib.lines.Line2D at 0x7f99916d6410>,\n",
              "  <matplotlib.lines.Line2D at 0x7f99916d6950>],\n",
              " 'caps': [<matplotlib.lines.Line2D at 0x7f99916d6e90>,\n",
              "  <matplotlib.lines.Line2D at 0x7f99916de410>],\n",
              " 'boxes': [<matplotlib.lines.Line2D at 0x7f99916cfe90>],\n",
              " 'medians': [<matplotlib.lines.Line2D at 0x7f99916de990>],\n",
              " 'fliers': [<matplotlib.lines.Line2D at 0x7f99916deed0>],\n",
              " 'means': []}"
            ]
          },
          "metadata": {},
          "execution_count": 7
        },
        {
          "output_type": "display_data",
          "data": {
            "text/plain": [
              "<Figure size 432x288 with 1 Axes>"
            ],
            "image/png": "[encoded data removed]"
          },
          "metadata": {
            "needs_background": "light"
          }
        }
      ],
      "source": [
        "plt.boxplot(data['Age'])"
      ]
    },
    {
      "cell_type": "code",
      "execution_count": null,
      "metadata": {
        "colab": {
          "base_uri": "https://localhost:8080/",
          "height": 282
        },
        "id": "2g1INk1QAqqK",
        "outputId": "748d7ec8-b237-4b15-b915-cea3c57a095b"
      },
      "outputs": [
        {
          "output_type": "execute_result",
          "data": {
            "text/plain": [
              "<BarContainer object of 200 artists>"
            ]
          },
          "metadata": {},
          "execution_count": 8
        },
        {
          "output_type": "display_data",
          "data": {
            "text/plain": [
              "<Figure size 432x288 with 1 Axes>"
            ],
            "image/png": "[encoded data removed]"
          },
          "metadata": {
            "needs_background": "light"
          }
        }
      ],
      "source": [
        "df=pd.DataFrame(data)\n",
        "X=list(df.iloc[:,0])\n",
        "Y=list(df.iloc[:,1])\n",
        "plt.bar(X,Y,color='g')"
      ]
    },
    {
      "cell_type": "code",
      "execution_count": null,
      "metadata": {
        "id": "xJmvJZqqAq4O"
      },
      "outputs": [],
      "source": [
        "# bivariative analysis"
      ]
    },
    {
      "cell_type": "code",
      "execution_count": null,
      "metadata": {
        "colab": {
          "base_uri": "https://localhost:8080/",
          "height": 282
        },
        "id": "7MPnSJknArHG",
        "outputId": "e0a72417-9a41-4059-88a0-708a5a24a05f"
      },
      "outputs": [
        {
          "output_type": "execute_result",
          "data": {
            "text/plain": [
              "<BarContainer object of 200 artists>"
            ]
          },
          "metadata": {},
          "execution_count": 9
        },
        {
          "output_type": "display_data",
          "data": {
            "text/plain": [
              "<Figure size 432x288 with 1 Axes>"
            ],
            "image/png": "[encoded data removed]"
          },
          "metadata": {
            "needs_background": "light"
          }
        }
      ],
      "source": [
        "plt.bar(data['Gender'],data['Age'],color='r')"
      ]
    },
    {
      "cell_type": "code",
      "execution_count": null,
      "metadata": {
        "id": "cUK1v_KpJUfe"
      },
      "outputs": [],
      "source": [
        "# multivariative analysis"
      ]
    },
    {
      "cell_type": "code",
      "execution_count": null,
      "metadata": {
        "colab": {
          "base_uri": "https://localhost:8080/",
          "height": 282
        },
        "id": "3xdhUBW8ArZ0",
        "outputId": "25ce8597-16d9-4e6a-ad6f-e2eda594b566"
      },
      "outputs": [
        {
          "output_type": "execute_result",
          "data": {
            "text/plain": [
              "<matplotlib.collections.PathCollection at 0x7f9991276490>"
            ]
          },
          "metadata": {},
          "execution_count": 11
        },
        {
          "output_type": "display_data",
          "data": {
            "text/plain": [
              "<Figure size 432x288 with 1 Axes>"
            ],
            "image/png": "[encoded data removed]"
          },
          "metadata": {
            "needs_background": "light"
          }
        }
      ],
      "source": [
        "plt.scatter(data['Age'],data['Annual Income (k$)'],color='b')"
      ]
    },
    {
      "cell_type": "code",
      "execution_count": null,
      "metadata": {
        "colab": {
          "base_uri": "https://localhost:8080/",
          "height": 831
        },
        "id": "uxA2nueCArsd",
        "outputId": "874ce08d-e5b6-4c19-bf54-6711e93f32b9"
      },
      "outputs": [
        {
          "output_type": "execute_result",
          "data": {
            "text/plain": [
              "<seaborn.axisgrid.FacetGrid at 0x7f9991ba6d10>"
            ]
          },
          "metadata": {},
          "execution_count": 12
        },
        {
          "output_type": "display_data",
          "data": {
            "text/plain": [
              "<Figure size 408.75x360 with 1 Axes>"
            ],
            "image/png": "[encoded data removed]"
          },
          "metadata": {
            "needs_background": "light"
          }
        }
      ],
      "source": [
        "sns.catplot(data=data,x='Spending Score (1-100)',y='Annual Income (k$)',hue='Age')"
      ]
    },
    {
      "cell_type": "code",
      "execution_count": null,
      "metadata": {
        "colab": {
          "base_uri": "https://localhost:8080/",
          "height": 386
        },
        "id": "iMo1L-knI6-f",
        "outputId": "6ee44b59-a498-4de7-a3af-adf785e9996d"
      },
      "outputs": [
        {
          "output_type": "execute_result",
          "data": {
            "text/plain": [
              "<seaborn.axisgrid.FacetGrid at 0x7f9991690450>"
            ]
          },
          "metadata": {},
          "execution_count": 13
        },
        {
          "output_type": "display_data",
          "data": {
            "text/plain": [
              "<Figure size 432.125x360 with 1 Axes>"
            ],
            "image/png": "[encoded data removed]"
          },
          "metadata": {
            "needs_background": "light"
          }
        }
      ],
      "source": [
        "sns.catplot(data=data,x='Annual Income (k$)',y='Spending Score (1-100)',hue='Gender',kind=\"box\")"
      ]
    },
    {
      "cell_type": "code",
      "execution_count": null,
      "metadata": {
        "id": "e-LA33WKI7TO"
      },
      "outputs": [],
      "source": [
        "# perform descriptive statistics on the dataset"
      ]
    },
    {
      "cell_type": "code",
      "execution_count": null,
      "metadata": {
        "colab": {
          "base_uri": "https://localhost:8080/"
        },
        "id": "xNRSPLnZI7fF",
        "outputId": "17ca38fa-edc7-4a80-e91f-b4236f40ca36"
      },
      "outputs": [
        {
          "output_type": "stream",
          "name": "stderr",
          "text": [
            "/usr/local/lib/python3.7/dist-packages/ipykernel_launcher.py:1: FutureWarning: Dropping of nuisance columns in DataFrame reductions (with 'numeric_only=None') is deprecated; in a future version this will raise TypeError.  Select only valid columns before calling the reduction.\n",
            "  \"\"\"Entry point for launching an IPython kernel.\n"
          ]
        },
        {
          "output_type": "execute_result",
          "data": {
            "text/plain": [
              "CustomerID                100.50\n",
              "Age                        38.85\n",
              "Annual Income (k$)         60.56\n",
              "Spending Score (1-100)     50.20\n",
              "dtype: float64"
            ]
          },
          "metadata": {},
          "execution_count": 15
        }
      ],
      "source": [
        "data.mean()"
      ]
    },
    {
      "cell_type": "code",
      "execution_count": null,
      "metadata": {
        "colab": {
          "base_uri": "https://localhost:8080/"
        },
        "id": "HGzU3tS_I7nL",
        "outputId": "82b55889-e6c9-4603-be1a-25d668ea5e78"
      },
      "outputs": [
        {
          "output_type": "execute_result",
          "data": {
            "text/plain": [
              "<bound method NDFrame._add_numeric_operations.<locals>.median of      CustomerID  Gender  Age  Annual Income (k$)  Spending Score (1-100)\n",
              "0             1    Male   19                  15                      39\n",
              "1             2    Male   21                  15                      81\n",
              "2             3  Female   20                  16                       6\n",
              "3             4  Female   23                  16                      77\n",
              "4             5  Female   31                  17                      40\n",
              "..          ...     ...  ...                 ...                     ...\n",
              "195         196  Female   35                 120                      79\n",
              "196         197  Female   45                 126                      28\n",
              "197         198    Male   32                 126                      74\n",
              "198         199    Male   32                 137                      18\n",
              "199         200    Male   30                 137                      83\n",
              "\n",
              "[200 rows x 5 columns]>"
            ]
          },
          "metadata": {},
          "execution_count": 16
        }
      ],
      "source": [
        "data.median"
      ]
    },
    {
      "cell_type": "code",
      "execution_count": null,
      "metadata": {
        "colab": {
          "base_uri": "https://localhost:8080/",
          "height": 300
        },
        "id": "THp2N4D1I7vN",
        "outputId": "400e49a2-daaf-4f23-c1d4-7238c352fcf9"
      },
      "outputs": [
        {
          "output_type": "execute_result",
          "data": {
            "text/plain": [
              "       CustomerID         Age  Annual Income (k$)  Spending Score (1-100)\n",
              "count  200.000000  200.000000          200.000000              200.000000\n",
              "mean   100.500000   38.850000           60.560000               50.200000\n",
              "std     57.879185   13.969007           26.264721               25.823522\n",
              "min      1.000000   18.000000           15.000000                1.000000\n",
              "25%     50.750000   28.750000           41.500000               34.750000\n",
              "50%    100.500000   36.000000           61.500000               50.000000\n",
              "75%    150.250000   49.000000           78.000000               73.000000\n",
              "max    200.000000   70.000000          137.000000               99.000000"
            ],
            "text/html": [
              "\n",
              "  <div id=\"df-ccb1b6a9-b0e8-48c0-a76c-04578aa4722f\">\n",
              "    <div class=\"colab-df-container\">\n",
              "      <div>\n",
              "<style scoped>\n",
              "    .dataframe tbody tr th:only-of-type {\n",
              "        vertical-align: middle;\n",
              "    }\n",
              "\n",
              "    .dataframe tbody tr th {\n",
              "        vertical-align: top;\n",
              "    }\n",
              "\n",
              "    .dataframe thead th {\n",
              "        text-align: right;\n",
              "    }\n",
              "</style>\n",
              "<table border=\"1\" class=\"dataframe\">\n",
              "  <thead>\n",
              "    <tr style=\"text-align: right;\">\n",
              "      <th></th>\n",
              "      <th>CustomerID</th>\n",
              "      <th>Age</th>\n",
              "      <th>Annual Income (k$)</th>\n",
              "      <th>Spending Score (1-100)</th>\n",
              "    </tr>\n",
              "  </thead>\n",
              "  <tbody>\n",
              "    <tr>\n",
              "      <th>count</th>\n",
              "      <td>200.000000</td>\n",
              "      <td>200.000000</td>\n",
              "      <td>200.000000</td>\n",
              "      <td>200.000000</td>\n",
              "    </tr>\n",
              "    <tr>\n",
              "      <th>mean</th>\n",
              "      <td>100.500000</td>\n",
              "      <td>38.850000</td>\n",
              "      <td>60.560000</td>\n",
              "      <td>50.200000</td>\n",
              "    </tr>\n",
              "    <tr>\n",
              "      <th>std</th>\n",
              "      <td>57.879185</td>\n",
              "      <td>13.969007</td>\n",
              "      <td>26.264721</td>\n",
              "      <td>25.823522</td>\n",
              "    </tr>\n",
              "    <tr>\n",
              "      <th>min</th>\n",
              "      <td>1.000000</td>\n",
              "      <td>18.000000</td>\n",
              "      <td>15.000000</td>\n",
              "      <td>1.000000</td>\n",
              "    </tr>\n",
              "    <tr>\n",
              "      <th>25%</th>\n",
              "      <td>50.750000</td>\n",
              "      <td>28.750000</td>\n",
              "      <td>41.500000</td>\n",
              "      <td>34.750000</td>\n",
              "    </tr>\n",
              "    <tr>\n",
              "      <th>50%</th>\n",
              "      <td>100.500000</td>\n",
              "      <td>36.000000</td>\n",
              "      <td>61.500000</td>\n",
              "      <td>50.000000</td>\n",
              "    </tr>\n",
              "    <tr>\n",
              "      <th>75%</th>\n",
              "      <td>150.250000</td>\n",
              "      <td>49.000000</td>\n",
              "      <td>78.000000</td>\n",
              "      <td>73.000000</td>\n",
              "    </tr>\n",
              "    <tr>\n",
              "      <th>max</th>\n",
              "      <td>200.000000</td>\n",
              "      <td>70.000000</td>\n",
              "      <td>137.000000</td>\n",
              "      <td>99.000000</td>\n",
              "    </tr>\n",
              "  </tbody>\n",
              "</table>\n",
              "</div>\n",
              "      <button class=\"colab-df-convert\" onclick=\"convertToInteractive('df-ccb1b6a9-b0e8-48c0-a76c-04578aa4722f')\"\n",
              "              title=\"Convert this dataframe to an interactive table.\"\n",
              "              style=\"display:none;\">\n",
              "        \n",
              "  <svg xmlns=\"http://www.w3.org/2000/svg\" height=\"24px\"viewBox=\"0 0 24 24\"\n",
              "       width=\"24px\">\n",
              "    <path d=\"M0 0h24v24H0V0z\" fill=\"none\"/>\n",
              "    <path d=\"M18.56 5.44l.94 2.06.94-2.06 2.06-.94-2.06-.94-.94-2.06-.94 2.06-2.06.94zm-11 1L8.5 8.5l.94-2.06 2.06-.94-2.06-.94L8.5 2.5l-.94 2.06-2.06.94zm10 10l.94 2.06.94-2.06 2.06-.94-2.06-.94-.94-2.06-.94 2.06-2.06.94z\"/><path d=\"M17.41 7.96l-1.37-1.37c-.4-.4-.92-.59-1.43-.59-.52 0-1.04.2-1.43.59L10.3 9.45l-7.72 7.72c-.78.78-.78 2.05 0 2.83L4 21.41c.39.39.9.59 1.41.59.51 0 1.02-.2 1.41-.59l7.78-7.78 2.81-2.81c.8-.78.8-2.07 0-2.86zM5.41 20L4 18.59l7.72-7.72 1.47 1.35L5.41 20z\"/>\n",
              "  </svg>\n",
              "      </button>\n",
              "      \n",
              "  <style>\n",
              "    .colab-df-container {\n",
              "      display:flex;\n",
              "      flex-wrap:wrap;\n",
              "      gap: 12px;\n",
              "    }\n",
              "\n",
              "    .colab-df-convert {\n",
              "      background-color: #E8F0FE;\n",
              "      border: none;\n",
              "      border-radius: 50%;\n",
              "      cursor: pointer;\n",
              "      display: none;\n",
              "      fill: #1967D2;\n",
              "      height: 32px;\n",
              "      padding: 0 0 0 0;\n",
              "      width: 32px;\n",
              "    }\n",
              "\n",
              "    .colab-df-convert:hover {\n",
              "      background-color: #E2EBFA;\n",
              "      box-shadow: 0px 1px 2px rgba(60, 64, 67, 0.3), 0px 1px 3px 1px rgba(60, 64, 67, 0.15);\n",
              "      fill: #174EA6;\n",
              "    }\n",
              "\n",
              "    [theme=dark] .colab-df-convert {\n",
              "      background-color: #3B4455;\n",
              "      fill: #D2E3FC;\n",
              "    }\n",
              "\n",
              "    [theme=dark] .colab-df-convert:hover {\n",
              "      background-color: #434B5C;\n",
              "      box-shadow: 0px 1px 3px 1px rgba(0, 0, 0, 0.15);\n",
              "      filter: drop-shadow(0px 1px 2px rgba(0, 0, 0, 0.3));\n",
              "      fill: #FFFFFF;\n",
              "    }\n",
              "  </style>\n",
              "\n",
              "      <script>\n",
              "        const buttonEl =\n",
              "          document.querySelector('#df-ccb1b6a9-b0e8-48c0-a76c-04578aa4722f button.colab-df-convert');\n",
              "        buttonEl.style.display =\n",
              "          google.colab.kernel.accessAllowed ? 'block' : 'none';\n",
              "\n",
              "        async function convertToInteractive(key) {\n",
              "          const element = document.querySelector('#df-ccb1b6a9-b0e8-48c0-a76c-04578aa4722f');\n",
              "          const dataTable =\n",
              "            await google.colab.kernel.invokeFunction('convertToInteractive',\n",
              "                                                     [key], {});\n",
              "          if (!dataTable) return;\n",
              "\n",
              "          const docLinkHtml = 'Like what you see? Visit the ' +\n",
              "            '<a target=\"_blank\" href=https://colab.research.google.com/notebooks/data_table.ipynb>data table notebook</a>'\n",
              "            + ' to learn more about interactive tables.';\n",
              "          element.innerHTML = '';\n",
              "          dataTable['output_type'] = 'display_data';\n",
              "          await google.colab.output.renderOutput(dataTable, element);\n",
              "          const docLink = document.createElement('div');\n",
              "          docLink.innerHTML = docLinkHtml;\n",
              "          element.appendChild(docLink);\n",
              "        }\n",
              "      </script>\n",
              "    </div>\n",
              "  </div>\n",
              "  "
            ]
          },
          "metadata": {},
          "execution_count": 17
        }
      ],
      "source": [
        "data.describe()"
      ]
    },
    {
      "cell_type": "code",
      "execution_count": null,
      "metadata": {
        "colab": {
          "base_uri": "https://localhost:8080/"
        },
        "id": "O4YF_nb3I8B4",
        "outputId": "ad1559e5-7051-41c6-8697-0e8157a5244f"
      },
      "outputs": [
        {
          "output_type": "execute_result",
          "data": {
            "text/plain": [
              "(200, 5)"
            ]
          },
          "metadata": {},
          "execution_count": 18
        }
      ],
      "source": [
        "data.shape"
      ]
    },
    {
      "cell_type": "code",
      "execution_count": null,
      "metadata": {
        "id": "w2ATnw65I8gV"
      },
      "outputs": [],
      "source": [
        "# handle the missing values"
      ]
    },
    {
      "cell_type": "code",
      "execution_count": null,
      "metadata": {
        "colab": {
          "base_uri": "https://localhost:8080/"
        },
        "id": "kUxAhUrjNuNv",
        "outputId": "e2a43063-f277-4072-a609-445c8020e514"
      },
      "outputs": [
        {
          "output_type": "execute_result",
          "data": {
            "text/plain": [
              "CustomerID                0\n",
              "Gender                    0\n",
              "Age                       0\n",
              "Annual Income (k$)        0\n",
              "Spending Score (1-100)    0\n",
              "dtype: int64"
            ]
          },
          "metadata": {},
          "execution_count": 19
        }
      ],
      "source": [
        "data.isna().sum()"
      ]
    },
    {
      "cell_type": "code",
      "execution_count": null,
      "metadata": {
        "id": "z420uvD6NuaY"
      },
      "outputs": [],
      "source": [
        "# find the outliers and replace the outliers"
      ]
    },
    {
      "cell_type": "code",
      "execution_count": null,
      "metadata": {
        "colab": {
          "base_uri": "https://localhost:8080/",
          "height": 351
        },
        "id": "oCgVibz7NumE",
        "outputId": "dd3ae76c-978f-4132-ebbe-2cb8152c0d2c"
      },
      "outputs": [
        {
          "output_type": "stream",
          "name": "stderr",
          "text": [
            "/usr/local/lib/python3.7/dist-packages/seaborn/_decorators.py:43: FutureWarning: Pass the following variable as a keyword arg: x. From version 0.12, the only valid positional argument will be `data`, and passing other arguments without an explicit keyword will result in an error or misinterpretation.\n",
            "  FutureWarning\n"
          ]
        },
        {
          "output_type": "execute_result",
          "data": {
            "text/plain": [
              "<matplotlib.axes._subplots.AxesSubplot at 0x7f9991d7d2d0>"
            ]
          },
          "metadata": {},
          "execution_count": 20
        },
        {
          "output_type": "display_data",
          "data": {
            "text/plain": [
              "<Figure size 432x288 with 1 Axes>"
            ],
            "image/png": "[encoded data removed]"
          },
          "metadata": {
            "needs_background": "light"
          }
        }
      ],
      "source": [
        "sns.boxplot(data['Age'])"
      ]
    },
    {
      "cell_type": "code",
      "execution_count": null,
      "metadata": {
        "colab": {
          "base_uri": "https://localhost:8080/",
          "height": 112
        },
        "id": "JpEbiUupNuxB",
        "outputId": "e08eca3b-3776-4f9f-df06-854bacdab920"
      },
      "outputs": [
        {
          "output_type": "execute_result",
          "data": {
            "text/plain": [
              "      CustomerID    Age  Annual Income (k$)  Spending Score (1-100)\n",
              "0.25       50.75  28.75                41.5                   34.75\n",
              "0.75      150.25  49.00                78.0                   73.00"
            ],
            "text/html": [
              "\n",
              "  <div id=\"df-e8ac7fc6-7930-43b9-929c-3090237805c9\">\n",
              "    <div class=\"colab-df-container\">\n",
              "      <div>\n",
              "<style scoped>\n",
              "    .dataframe tbody tr th:only-of-type {\n",
              "        vertical-align: middle;\n",
              "    }\n",
              "\n",
              "    .dataframe tbody tr th {\n",
              "        vertical-align: top;\n",
              "    }\n",
              "\n",
              "    .dataframe thead th {\n",
              "        text-align: right;\n",
              "    }\n",
              "</style>\n",
              "<table border=\"1\" class=\"dataframe\">\n",
              "  <thead>\n",
              "    <tr style=\"text-align: right;\">\n",
              "      <th></th>\n",
              "      <th>CustomerID</th>\n",
              "      <th>Age</th>\n",
              "      <th>Annual Income (k$)</th>\n",
              "      <th>Spending Score (1-100)</th>\n",
              "    </tr>\n",
              "  </thead>\n",
              "  <tbody>\n",
              "    <tr>\n",
              "      <th>0.25</th>\n",
              "      <td>50.75</td>\n",
              "      <td>28.75</td>\n",
              "      <td>41.5</td>\n",
              "      <td>34.75</td>\n",
              "    </tr>\n",
              "    <tr>\n",
              "      <th>0.75</th>\n",
              "      <td>150.25</td>\n",
              "      <td>49.00</td>\n",
              "      <td>78.0</td>\n",
              "      <td>73.00</td>\n",
              "    </tr>\n",
              "  </tbody>\n",
              "</table>\n",
              "</div>\n",
              "      <button class=\"colab-df-convert\" onclick=\"convertToInteractive('df-e8ac7fc6-7930-43b9-929c-3090237805c9')\"\n",
              "              title=\"Convert this dataframe to an interactive table.\"\n",
              "              style=\"display:none;\">\n",
              "        \n",
              "  <svg xmlns=\"http://www.w3.org/2000/svg\" height=\"24px\"viewBox=\"0 0 24 24\"\n",
              "       width=\"24px\">\n",
              "    <path d=\"M0 0h24v24H0V0z\" fill=\"none\"/>\n",
              "    <path d=\"M18.56 5.44l.94 2.06.94-2.06 2.06-.94-2.06-.94-.94-2.06-.94 2.06-2.06.94zm-11 1L8.5 8.5l.94-2.06 2.06-.94-2.06-.94L8.5 2.5l-.94 2.06-2.06.94zm10 10l.94 2.06.94-2.06 2.06-.94-2.06-.94-.94-2.06-.94 2.06-2.06.94z\"/><path d=\"M17.41 7.96l-1.37-1.37c-.4-.4-.92-.59-1.43-.59-.52 0-1.04.2-1.43.59L10.3 9.45l-7.72 7.72c-.78.78-.78 2.05 0 2.83L4 21.41c.39.39.9.59 1.41.59.51 0 1.02-.2 1.41-.59l7.78-7.78 2.81-2.81c.8-.78.8-2.07 0-2.86zM5.41 20L4 18.59l7.72-7.72 1.47 1.35L5.41 20z\"/>\n",
              "  </svg>\n",
              "      </button>\n",
              "      \n",
              "  <style>\n",
              "    .colab-df-container {\n",
              "      display:flex;\n",
              "      flex-wrap:wrap;\n",
              "      gap: 12px;\n",
              "    }\n",
              "\n",
              "    .colab-df-convert {\n",
              "      background-color: #E8F0FE;\n",
              "      border: none;\n",
              "      border-radius: 50%;\n",
              "      cursor: pointer;\n",
              "      display: none;\n",
              "      fill: #1967D2;\n",
              "      height: 32px;\n",
              "      padding: 0 0 0 0;\n",
              "      width: 32px;\n",
              "    }\n",
              "\n",
              "    .colab-df-convert:hover {\n",
              "      background-color: #E2EBFA;\n",
              "      box-shadow: 0px 1px 2px rgba(60, 64, 67, 0.3), 0px 1px 3px 1px rgba(60, 64, 67, 0.15);\n",
              "      fill: #174EA6;\n",
              "    }\n",
              "\n",
              "    [theme=dark] .colab-df-convert {\n",
              "      background-color: #3B4455;\n",
              "      fill: #D2E3FC;\n",
              "    }\n",
              "\n",
              "    [theme=dark] .colab-df-convert:hover {\n",
              "      background-color: #434B5C;\n",
              "      box-shadow: 0px 1px 3px 1px rgba(0, 0, 0, 0.15);\n",
              "      filter: drop-shadow(0px 1px 2px rgba(0, 0, 0, 0.3));\n",
              "      fill: #FFFFFF;\n",
              "    }\n",
              "  </style>\n",
              "\n",
              "      <script>\n",
              "        const buttonEl =\n",
              "          document.querySelector('#df-e8ac7fc6-7930-43b9-929c-3090237805c9 button.colab-df-convert');\n",
              "        buttonEl.style.display =\n",
              "          google.colab.kernel.accessAllowed ? 'block' : 'none';\n",
              "\n",
              "        async function convertToInteractive(key) {\n",
              "          const element = document.querySelector('#df-e8ac7fc6-7930-43b9-929c-3090237805c9');\n",
              "          const dataTable =\n",
              "            await google.colab.kernel.invokeFunction('convertToInteractive',\n",
              "                                                     [key], {});\n",
              "          if (!dataTable) return;\n",
              "\n",
              "          const docLinkHtml = 'Like what you see? Visit the ' +\n",
              "            '<a target=\"_blank\" href=https://colab.research.google.com/notebooks/data_table.ipynb>data table notebook</a>'\n",
              "            + ' to learn more about interactive tables.';\n",
              "          element.innerHTML = '';\n",
              "          dataTable['output_type'] = 'display_data';\n",
              "          await google.colab.output.renderOutput(dataTable, element);\n",
              "          const docLink = document.createElement('div');\n",
              "          docLink.innerHTML = docLinkHtml;\n",
              "          element.appendChild(docLink);\n",
              "        }\n",
              "      </script>\n",
              "    </div>\n",
              "  </div>\n",
              "  "
            ]
          },
          "metadata": {},
          "execution_count": 21
        }
      ],
      "source": [
        "qnt=data.quantile(q=[0.25,0.75])\n",
        "qnt"
      ]
    },
    {
      "cell_type": "code",
      "execution_count": null,
      "metadata": {
        "colab": {
          "base_uri": "https://localhost:8080/"
        },
        "id": "e360KW5hNu4m",
        "outputId": "c21d2ba9-c4e1-40cf-cf27-586c3690db03"
      },
      "outputs": [
        {
          "output_type": "execute_result",
          "data": {
            "text/plain": [
              "CustomerID                99.50\n",
              "Age                       20.25\n",
              "Annual Income (k$)        36.50\n",
              "Spending Score (1-100)    38.25\n",
              "dtype: float64"
            ]
          },
          "metadata": {},
          "execution_count": 22
        }
      ],
      "source": [
        "IQR=qnt.loc[0.75] - qnt.loc[0.25]\n",
        "IQR"
      ]
    },
    {
      "cell_type": "code",
      "execution_count": null,
      "metadata": {
        "colab": {
          "base_uri": "https://localhost:8080/"
        },
        "id": "KdZrfLHxNvB5",
        "outputId": "2a62ecc7-eb34-4577-8fd0-57b76c441e3b"
      },
      "outputs": [
        {
          "output_type": "execute_result",
          "data": {
            "text/plain": [
              "CustomerID                299.500\n",
              "Age                        79.375\n",
              "Annual Income (k$)        132.750\n",
              "Spending Score (1-100)    130.375\n",
              "dtype: float64"
            ]
          },
          "metadata": {},
          "execution_count": 23
        }
      ],
      "source": [
        "upper_extreme=qnt.loc[0.75]+1.5*IQR\n",
        "upper_extreme"
      ]
    },
    {
      "cell_type": "code",
      "execution_count": null,
      "metadata": {
        "colab": {
          "base_uri": "https://localhost:8080/"
        },
        "id": "y5BeUWgZNvKj",
        "outputId": "564bb22f-f434-4506-f492-80a5fb2cb6e1"
      },
      "outputs": [
        {
          "output_type": "execute_result",
          "data": {
            "text/plain": [
              "CustomerID               -98.500\n",
              "Age                       -1.625\n",
              "Annual Income (k$)       -13.250\n",
              "Spending Score (1-100)   -22.625\n",
              "dtype: float64"
            ]
          },
          "metadata": {},
          "execution_count": 24
        }
      ],
      "source": [
        "lower_extreme=qnt.loc[0.25]-1.5*IQR\n",
        "lower_extreme"
      ]
    },
    {
      "cell_type": "code",
      "execution_count": null,
      "metadata": {
        "id": "sqkPZnAGNvR9"
      },
      "outputs": [],
      "source": [
        "df=data[(data['Age']<upper_extreme['Age'])&(data['Age']>lower_extreme['Age'])]"
      ]
    },
    {
      "cell_type": "code",
      "execution_count": null,
      "metadata": {
        "colab": {
          "base_uri": "https://localhost:8080/"
        },
        "id": "zZekoF97NvYy",
        "outputId": "e2aad691-e6ea-4f31-8212-4521612634a6"
      },
      "outputs": [
        {
          "output_type": "execute_result",
          "data": {
            "text/plain": [
              "(200, 5)"
            ]
          },
          "metadata": {},
          "execution_count": 26
        }
      ],
      "source": [
        "data.shape"
      ]
    },
    {
      "cell_type": "code",
      "execution_count": null,
      "metadata": {
        "colab": {
          "base_uri": "https://localhost:8080/",
          "height": 351
        },
        "id": "-s_lKRFuRE1v",
        "outputId": "9823e00c-12fb-42f5-8f30-d1c1046bcd10"
      },
      "outputs": [
        {
          "output_type": "stream",
          "name": "stderr",
          "text": [
            "/usr/local/lib/python3.7/dist-packages/seaborn/_decorators.py:43: FutureWarning: Pass the following variable as a keyword arg: x. From version 0.12, the only valid positional argument will be `data`, and passing other arguments without an explicit keyword will result in an error or misinterpretation.\n",
            "  FutureWarning\n"
          ]
        },
        {
          "output_type": "execute_result",
          "data": {
            "text/plain": [
              "<matplotlib.axes._subplots.AxesSubplot at 0x7f998dab4bd0>"
            ]
          },
          "metadata": {},
          "execution_count": 27
        },
        {
          "output_type": "display_data",
          "data": {
            "text/plain": [
              "<Figure size 432x288 with 1 Axes>"
            ],
            "image/png": "[encoded data removed]"
          },
          "metadata": {
            "needs_background": "light"
          }
        }
      ],
      "source": [
        "sns.boxplot(df['Age'])"
      ]
    },
    {
      "cell_type": "code",
      "execution_count": null,
      "metadata": {
        "id": "FawDITpqRE8X"
      },
      "outputs": [],
      "source": [
        "# check for categorical columns and perform encoding\n",
        "from sklearn.preprocessing import LabelEncoder"
      ]
    },
    {
      "cell_type": "code",
      "execution_count": null,
      "metadata": {
        "id": "OKjbe4S1RFCk"
      },
      "outputs": [],
      "source": [
        "le=LabelEncoder()\n",
        "df['Spending Score (1-100)']=le.fit_transform(df['Spending Score (1-100)'])"
      ]
    },
    {
      "cell_type": "code",
      "execution_count": null,
      "metadata": {
        "colab": {
          "base_uri": "https://localhost:8080/",
          "height": 206
        },
        "id": "LD_04-vjRFIX",
        "outputId": "2d95ad9c-f454-4cb9-de90-19b73d807e6b"
      },
      "outputs": [
        {
          "output_type": "execute_result",
          "data": {
            "text/plain": [
              "   CustomerID  Gender  Age  Annual Income (k$)  Spending Score (1-100)\n",
              "0           1    Male   19                  15                      30\n",
              "1           2    Male   21                  15                      67\n",
              "2           3  Female   20                  16                       4\n",
              "3           4  Female   23                  16                      64\n",
              "4           5  Female   31                  17                      31"
            ],
            "text/html": [
              "\n",
              "  <div id=\"df-9b0f8565-67bf-4e66-b8d5-34cd146dd9cb\">\n",
              "    <div class=\"colab-df-container\">\n",
              "      <div>\n",
              "<style scoped>\n",
              "    .dataframe tbody tr th:only-of-type {\n",
              "        vertical-align: middle;\n",
              "    }\n",
              "\n",
              "    .dataframe tbody tr th {\n",
              "        vertical-align: top;\n",
              "    }\n",
              "\n",
              "    .dataframe thead th {\n",
              "        text-align: right;\n",
              "    }\n",
              "</style>\n",
              "<table border=\"1\" class=\"dataframe\">\n",
              "  <thead>\n",
              "    <tr style=\"text-align: right;\">\n",
              "      <th></th>\n",
              "      <th>CustomerID</th>\n",
              "      <th>Gender</th>\n",
              "      <th>Age</th>\n",
              "      <th>Annual Income (k$)</th>\n",
              "      <th>Spending Score (1-100)</th>\n",
              "    </tr>\n",
              "  </thead>\n",
              "  <tbody>\n",
              "    <tr>\n",
              "      <th>0</th>\n",
              "      <td>1</td>\n",
              "      <td>Male</td>\n",
              "      <td>19</td>\n",
              "      <td>15</td>\n",
              "      <td>30</td>\n",
              "    </tr>\n",
              "    <tr>\n",
              "      <th>1</th>\n",
              "      <td>2</td>\n",
              "      <td>Male</td>\n",
              "      <td>21</td>\n",
              "      <td>15</td>\n",
              "      <td>67</td>\n",
              "    </tr>\n",
              "    <tr>\n",
              "      <th>2</th>\n",
              "      <td>3</td>\n",
              "      <td>Female</td>\n",
              "      <td>20</td>\n",
              "      <td>16</td>\n",
              "      <td>4</td>\n",
              "    </tr>\n",
              "    <tr>\n",
              "      <th>3</th>\n",
              "      <td>4</td>\n",
              "      <td>Female</td>\n",
              "      <td>23</td>\n",
              "      <td>16</td>\n",
              "      <td>64</td>\n",
              "    </tr>\n",
              "    <tr>\n",
              "      <th>4</th>\n",
              "      <td>5</td>\n",
              "      <td>Female</td>\n",
              "      <td>31</td>\n",
              "      <td>17</td>\n",
              "      <td>31</td>\n",
              "    </tr>\n",
              "  </tbody>\n",
              "</table>\n",
              "</div>\n",
              "      <button class=\"colab-df-convert\" onclick=\"convertToInteractive('df-9b0f8565-67bf-4e66-b8d5-34cd146dd9cb')\"\n",
              "              title=\"Convert this dataframe to an interactive table.\"\n",
              "              style=\"display:none;\">\n",
              "        \n",
              "  <svg xmlns=\"http://www.w3.org/2000/svg\" height=\"24px\"viewBox=\"0 0 24 24\"\n",
              "       width=\"24px\">\n",
              "    <path d=\"M0 0h24v24H0V0z\" fill=\"none\"/>\n",
              "    <path d=\"M18.56 5.44l.94 2.06.94-2.06 2.06-.94-2.06-.94-.94-2.06-.94 2.06-2.06.94zm-11 1L8.5 8.5l.94-2.06 2.06-.94-2.06-.94L8.5 2.5l-.94 2.06-2.06.94zm10 10l.94 2.06.94-2.06 2.06-.94-2.06-.94-.94-2.06-.94 2.06-2.06.94z\"/><path d=\"M17.41 7.96l-1.37-1.37c-.4-.4-.92-.59-1.43-.59-.52 0-1.04.2-1.43.59L10.3 9.45l-7.72 7.72c-.78.78-.78 2.05 0 2.83L4 21.41c.39.39.9.59 1.41.59.51 0 1.02-.2 1.41-.59l7.78-7.78 2.81-2.81c.8-.78.8-2.07 0-2.86zM5.41 20L4 18.59l7.72-7.72 1.47 1.35L5.41 20z\"/>\n",
              "  </svg>\n",
              "      </button>\n",
              "      \n",
              "  <style>\n",
              "    .colab-df-container {\n",
              "      display:flex;\n",
              "      flex-wrap:wrap;\n",
              "      gap: 12px;\n",
              "    }\n",
              "\n",
              "    .colab-df-convert {\n",
              "      background-color: #E8F0FE;\n",
              "      border: none;\n",
              "      border-radius: 50%;\n",
              "      cursor: pointer;\n",
              "      display: none;\n",
              "      fill: #1967D2;\n",
              "      height: 32px;\n",
              "      padding: 0 0 0 0;\n",
              "      width: 32px;\n",
              "    }\n",
              "\n",
              "    .colab-df-convert:hover {\n",
              "      background-color: #E2EBFA;\n",
              "      box-shadow: 0px 1px 2px rgba(60, 64, 67, 0.3), 0px 1px 3px 1px rgba(60, 64, 67, 0.15);\n",
              "      fill: #174EA6;\n",
              "    }\n",
              "\n",
              "    [theme=dark] .colab-df-convert {\n",
              "      background-color: #3B4455;\n",
              "      fill: #D2E3FC;\n",
              "    }\n",
              "\n",
              "    [theme=dark] .colab-df-convert:hover {\n",
              "      background-color: #434B5C;\n",
              "      box-shadow: 0px 1px 3px 1px rgba(0, 0, 0, 0.15);\n",
              "      filter: drop-shadow(0px 1px 2px rgba(0, 0, 0, 0.3));\n",
              "      fill: #FFFFFF;\n",
              "    }\n",
              "  </style>\n",
              "\n",
              "      <script>\n",
              "        const buttonEl =\n",
              "          document.querySelector('#df-9b0f8565-67bf-4e66-b8d5-34cd146dd9cb button.colab-df-convert');\n",
              "        buttonEl.style.display =\n",
              "          google.colab.kernel.accessAllowed ? 'block' : 'none';\n",
              "\n",
              "        async function convertToInteractive(key) {\n",
              "          const element = document.querySelector('#df-9b0f8565-67bf-4e66-b8d5-34cd146dd9cb');\n",
              "          const dataTable =\n",
              "            await google.colab.kernel.invokeFunction('convertToInteractive',\n",
              "                                                     [key], {});\n",
              "          if (!dataTable) return;\n",
              "\n",
              "          const docLinkHtml = 'Like what you see? Visit the ' +\n",
              "            '<a target=\"_blank\" href=https://colab.research.google.com/notebooks/data_table.ipynb>data table notebook</a>'\n",
              "            + ' to learn more about interactive tables.';\n",
              "          element.innerHTML = '';\n",
              "          dataTable['output_type'] = 'display_data';\n",
              "          await google.colab.output.renderOutput(dataTable, element);\n",
              "          const docLink = document.createElement('div');\n",
              "          docLink.innerHTML = docLinkHtml;\n",
              "          element.appendChild(docLink);\n",
              "        }\n",
              "      </script>\n",
              "    </div>\n",
              "  </div>\n",
              "  "
            ]
          },
          "metadata": {},
          "execution_count": 30
        }
      ],
      "source": [
        "df.head()"
      ]
    },
    {
      "cell_type": "code",
      "execution_count": null,
      "metadata": {
        "id": "J7gLoUh_RFS_"
      },
      "outputs": [],
      "source": [
        "# scaling the data"
      ]
    },
    {
      "cell_type": "code",
      "execution_count": null,
      "metadata": {
        "id": "8RCSVhChRFYX"
      },
      "outputs": [],
      "source": [
        "from sklearn.preprocessing import scale"
      ]
    },
    {
      "cell_type": "code",
      "execution_count": null,
      "metadata": {
        "colab": {
          "base_uri": "https://localhost:8080/",
          "height": 206
        },
        "id": "5lHCZO8BHyn5",
        "outputId": "88a0377a-7282-4aa1-9f50-5920c16750be"
      },
      "outputs": [
        {
          "output_type": "execute_result",
          "data": {
            "text/plain": [
              "   CustomerID  Age  Annual Income (k$)  Spending Score (1-100)\n",
              "0           1   19                  15                      39\n",
              "1           2   21                  15                      81\n",
              "2           3   20                  16                       6\n",
              "3           4   23                  16                      77\n",
              "4           5   31                  17                      40"
            ],
            "text/html": [
              "\n",
              "  <div id=\"df-b4946932-f5e6-43e4-a82f-766cbcef9996\">\n",
              "    <div class=\"colab-df-container\">\n",
              "      <div>\n",
              "<style scoped>\n",
              "    .dataframe tbody tr th:only-of-type {\n",
              "        vertical-align: middle;\n",
              "    }\n",
              "\n",
              "    .dataframe tbody tr th {\n",
              "        vertical-align: top;\n",
              "    }\n",
              "\n",
              "    .dataframe thead th {\n",
              "        text-align: right;\n",
              "    }\n",
              "</style>\n",
              "<table border=\"1\" class=\"dataframe\">\n",
              "  <thead>\n",
              "    <tr style=\"text-align: right;\">\n",
              "      <th></th>\n",
              "      <th>CustomerID</th>\n",
              "      <th>Age</th>\n",
              "      <th>Annual Income (k$)</th>\n",
              "      <th>Spending Score (1-100)</th>\n",
              "    </tr>\n",
              "  </thead>\n",
              "  <tbody>\n",
              "    <tr>\n",
              "      <th>0</th>\n",
              "      <td>1</td>\n",
              "      <td>19</td>\n",
              "      <td>15</td>\n",
              "      <td>39</td>\n",
              "    </tr>\n",
              "    <tr>\n",
              "      <th>1</th>\n",
              "      <td>2</td>\n",
              "      <td>21</td>\n",
              "      <td>15</td>\n",
              "      <td>81</td>\n",
              "    </tr>\n",
              "    <tr>\n",
              "      <th>2</th>\n",
              "      <td>3</td>\n",
              "      <td>20</td>\n",
              "      <td>16</td>\n",
              "      <td>6</td>\n",
              "    </tr>\n",
              "    <tr>\n",
              "      <th>3</th>\n",
              "      <td>4</td>\n",
              "      <td>23</td>\n",
              "      <td>16</td>\n",
              "      <td>77</td>\n",
              "    </tr>\n",
              "    <tr>\n",
              "      <th>4</th>\n",
              "      <td>5</td>\n",
              "      <td>31</td>\n",
              "      <td>17</td>\n",
              "      <td>40</td>\n",
              "    </tr>\n",
              "  </tbody>\n",
              "</table>\n",
              "</div>\n",
              "      <button class=\"colab-df-convert\" onclick=\"convertToInteractive('df-b4946932-f5e6-43e4-a82f-766cbcef9996')\"\n",
              "              title=\"Convert this dataframe to an interactive table.\"\n",
              "              style=\"display:none;\">\n",
              "        \n",
              "  <svg xmlns=\"http://www.w3.org/2000/svg\" height=\"24px\"viewBox=\"0 0 24 24\"\n",
              "       width=\"24px\">\n",
              "    <path d=\"M0 0h24v24H0V0z\" fill=\"none\"/>\n",
              "    <path d=\"M18.56 5.44l.94 2.06.94-2.06 2.06-.94-2.06-.94-.94-2.06-.94 2.06-2.06.94zm-11 1L8.5 8.5l.94-2.06 2.06-.94-2.06-.94L8.5 2.5l-.94 2.06-2.06.94zm10 10l.94 2.06.94-2.06 2.06-.94-2.06-.94-.94-2.06-.94 2.06-2.06.94z\"/><path d=\"M17.41 7.96l-1.37-1.37c-.4-.4-.92-.59-1.43-.59-.52 0-1.04.2-1.43.59L10.3 9.45l-7.72 7.72c-.78.78-.78 2.05 0 2.83L4 21.41c.39.39.9.59 1.41.59.51 0 1.02-.2 1.41-.59l7.78-7.78 2.81-2.81c.8-.78.8-2.07 0-2.86zM5.41 20L4 18.59l7.72-7.72 1.47 1.35L5.41 20z\"/>\n",
              "  </svg>\n",
              "      </button>\n",
              "      \n",
              "  <style>\n",
              "    .colab-df-container {\n",
              "      display:flex;\n",
              "      flex-wrap:wrap;\n",
              "      gap: 12px;\n",
              "    }\n",
              "\n",
              "    .colab-df-convert {\n",
              "      background-color: #E8F0FE;\n",
              "      border: none;\n",
              "      border-radius: 50%;\n",
              "      cursor: pointer;\n",
              "      display: none;\n",
              "      fill: #1967D2;\n",
              "      height: 32px;\n",
              "      padding: 0 0 0 0;\n",
              "      width: 32px;\n",
              "    }\n",
              "\n",
              "    .colab-df-convert:hover {\n",
              "      background-color: #E2EBFA;\n",
              "      box-shadow: 0px 1px 2px rgba(60, 64, 67, 0.3), 0px 1px 3px 1px rgba(60, 64, 67, 0.15);\n",
              "      fill: #174EA6;\n",
              "    }\n",
              "\n",
              "    [theme=dark] .colab-df-convert {\n",
              "      background-color: #3B4455;\n",
              "      fill: #D2E3FC;\n",
              "    }\n",
              "\n",
              "    [theme=dark] .colab-df-convert:hover {\n",
              "      background-color: #434B5C;\n",
              "      box-shadow: 0px 1px 3px 1px rgba(0, 0, 0, 0.15);\n",
              "      filter: drop-shadow(0px 1px 2px rgba(0, 0, 0, 0.3));\n",
              "      fill: #FFFFFF;\n",
              "    }\n",
              "  </style>\n",
              "\n",
              "      <script>\n",
              "        const buttonEl =\n",
              "          document.querySelector('#df-b4946932-f5e6-43e4-a82f-766cbcef9996 button.colab-df-convert');\n",
              "        buttonEl.style.display =\n",
              "          google.colab.kernel.accessAllowed ? 'block' : 'none';\n",
              "\n",
              "        async function convertToInteractive(key) {\n",
              "          const element = document.querySelector('#df-b4946932-f5e6-43e4-a82f-766cbcef9996');\n",
              "          const dataTable =\n",
              "            await google.colab.kernel.invokeFunction('convertToInteractive',\n",
              "                                                     [key], {});\n",
              "          if (!dataTable) return;\n",
              "\n",
              "          const docLinkHtml = 'Like what you see? Visit the ' +\n",
              "            '<a target=\"_blank\" href=https://colab.research.google.com/notebooks/data_table.ipynb>data table notebook</a>'\n",
              "            + ' to learn more about interactive tables.';\n",
              "          element.innerHTML = '';\n",
              "          dataTable['output_type'] = 'display_data';\n",
              "          await google.colab.output.renderOutput(dataTable, element);\n",
              "          const docLink = document.createElement('div');\n",
              "          docLink.innerHTML = docLinkHtml;\n",
              "          element.appendChild(docLink);\n",
              "        }\n",
              "      </script>\n",
              "    </div>\n",
              "  </div>\n",
              "  "
            ]
          },
          "metadata": {},
          "execution_count": 32
        }
      ],
      "source": [
        "x=data.drop(columns=['Gender'],axis=1)\n",
        "x.head()"
      ]
    },
    {
      "cell_type": "code",
      "execution_count": null,
      "metadata": {
        "id": "EQGqf22mRFc4"
      },
      "outputs": [],
      "source": [
        "x=scale(x)"
      ]
    },
    {
      "cell_type": "code",
      "execution_count": null,
      "metadata": {
        "colab": {
          "base_uri": "https://localhost:8080/"
        },
        "id": "eSthvu4eXbrd",
        "outputId": "a865cb31-9d7d-43c1-c8cb-e3bfe397c8aa"
      },
      "outputs": [
        {
          "output_type": "execute_result",
          "data": {
            "text/plain": [
              "array([[-1.7234121 , -1.42456879, -1.73899919, -0.43480148],\n",
              "       [-1.70609137, -1.28103541, -1.73899919,  1.19570407],\n",
              "       [-1.68877065, -1.3528021 , -1.70082976, -1.71591298],\n",
              "       [-1.67144992, -1.13750203, -1.70082976,  1.04041783],\n",
              "       [-1.6541292 , -0.56336851, -1.66266033, -0.39597992],\n",
              "       [-1.63680847, -1.20926872, -1.66266033,  1.00159627],\n",
              "       [-1.61948775, -0.27630176, -1.62449091, -1.71591298],\n",
              "       [-1.60216702, -1.13750203, -1.62449091,  1.70038436],\n",
              "       [-1.5848463 ,  1.80493225, -1.58632148, -1.83237767],\n",
              "       [-1.56752558, -0.6351352 , -1.58632148,  0.84631002],\n",
              "       [-1.55020485,  2.02023231, -1.58632148, -1.4053405 ],\n",
              "       [-1.53288413, -0.27630176, -1.58632148,  1.89449216],\n",
              "       [-1.5155634 ,  1.37433211, -1.54815205, -1.36651894],\n",
              "       [-1.49824268, -1.06573534, -1.54815205,  1.04041783],\n",
              "       [-1.48092195, -0.13276838, -1.54815205, -1.44416206],\n",
              "       [-1.46360123, -1.20926872, -1.54815205,  1.11806095],\n",
              "       [-1.4462805 , -0.27630176, -1.50998262, -0.59008772],\n",
              "       [-1.42895978, -1.3528021 , -1.50998262,  0.61338066],\n",
              "       [-1.41163905,  0.94373197, -1.43364376, -0.82301709],\n",
              "       [-1.39431833, -0.27630176, -1.43364376,  1.8556706 ],\n",
              "       [-1.3769976 , -0.27630176, -1.39547433, -0.59008772],\n",
              "       [-1.35967688, -0.99396865, -1.39547433,  0.88513158],\n",
              "       [-1.34235616,  0.51313183, -1.3573049 , -1.75473454],\n",
              "       [-1.32503543, -0.56336851, -1.3573049 ,  0.88513158],\n",
              "       [-1.30771471,  1.08726535, -1.24279661, -1.4053405 ],\n",
              "       [-1.29039398, -0.70690189, -1.24279661,  1.23452563],\n",
              "       [-1.27307326,  0.44136514, -1.24279661, -0.7065524 ],\n",
              "       [-1.25575253, -0.27630176, -1.24279661,  0.41927286],\n",
              "       [-1.23843181,  0.08253169, -1.20462718, -0.74537397],\n",
              "       [-1.22111108, -1.13750203, -1.20462718,  1.42863343],\n",
              "       [-1.20379036,  1.51786549, -1.16645776, -1.7935561 ],\n",
              "       [-1.18646963, -1.28103541, -1.16645776,  0.88513158],\n",
              "       [-1.16914891,  1.01549866, -1.05194947, -1.7935561 ],\n",
              "       [-1.15182818, -1.49633548, -1.05194947,  1.62274124],\n",
              "       [-1.13450746,  0.7284319 , -1.05194947, -1.4053405 ],\n",
              "       [-1.11718674, -1.28103541, -1.05194947,  1.19570407],\n",
              "       [-1.09986601,  0.22606507, -1.01378004, -1.28887582],\n",
              "       [-1.08254529, -0.6351352 , -1.01378004,  0.88513158],\n",
              "       [-1.06522456, -0.20453507, -0.89927175, -0.93948177],\n",
              "       [-1.04790384, -1.3528021 , -0.89927175,  0.96277471],\n",
              "       [-1.03058311,  1.87669894, -0.86110232, -0.59008772],\n",
              "       [-1.01326239, -1.06573534, -0.86110232,  1.62274124],\n",
              "       [-0.99594166,  0.65666521, -0.82293289, -0.55126616],\n",
              "       [-0.97862094, -0.56336851, -0.82293289,  0.41927286],\n",
              "       [-0.96130021,  0.7284319 , -0.82293289, -0.86183865],\n",
              "       [-0.94397949, -1.06573534, -0.82293289,  0.5745591 ],\n",
              "       [-0.92665877,  0.80019859, -0.78476346,  0.18634349],\n",
              "       [-0.90933804, -0.85043527, -0.78476346, -0.12422899],\n",
              "       [-0.89201732, -0.70690189, -0.78476346, -0.3183368 ],\n",
              "       [-0.87469659, -0.56336851, -0.78476346, -0.3183368 ],\n",
              "       [-0.85737587,  0.7284319 , -0.70842461,  0.06987881],\n",
              "       [-0.84005514, -0.41983513, -0.70842461,  0.38045129],\n",
              "       [-0.82273442, -0.56336851, -0.67025518,  0.14752193],\n",
              "       [-0.80541369,  1.4460988 , -0.67025518,  0.38045129],\n",
              "       [-0.78809297,  0.80019859, -0.67025518, -0.20187212],\n",
              "       [-0.77077224,  0.58489852, -0.67025518, -0.35715836],\n",
              "       [-0.75345152,  0.87196528, -0.63208575, -0.00776431],\n",
              "       [-0.73613079,  2.16376569, -0.63208575, -0.16305055],\n",
              "       [-0.71881007, -0.85043527, -0.55574689,  0.03105725],\n",
              "       [-0.70148935,  1.01549866, -0.55574689, -0.16305055],\n",
              "       [-0.68416862,  2.23553238, -0.55574689,  0.22516505],\n",
              "       [-0.6668479 , -1.42456879, -0.55574689,  0.18634349],\n",
              "       [-0.64952717,  2.02023231, -0.51757746,  0.06987881],\n",
              "       [-0.63220645,  1.08726535, -0.51757746,  0.34162973],\n",
              "       [-0.61488572,  1.73316556, -0.47940803,  0.03105725],\n",
              "       [-0.597565  , -1.49633548, -0.47940803,  0.34162973],\n",
              "       [-0.58024427,  0.29783176, -0.47940803, -0.00776431],\n",
              "       [-0.56292355,  2.091999  , -0.47940803, -0.08540743],\n",
              "       [-0.54560282, -1.42456879, -0.47940803,  0.34162973],\n",
              "       [-0.5282821 , -0.49160182, -0.47940803, -0.12422899],\n",
              "       [-0.51096138,  2.23553238, -0.4412386 ,  0.18634349],\n",
              "       [-0.49364065,  0.58489852, -0.4412386 , -0.3183368 ],\n",
              "       [-0.47631993,  1.51786549, -0.40306917, -0.04658587],\n",
              "       [-0.4589992 ,  1.51786549, -0.40306917,  0.22516505],\n",
              "       [-0.44167848,  1.4460988 , -0.25039146, -0.12422899],\n",
              "       [-0.42435775, -0.92220196, -0.25039146,  0.14752193],\n",
              "       [-0.40703703,  0.44136514, -0.25039146,  0.10870037],\n",
              "       [-0.3897163 ,  0.08253169, -0.25039146, -0.08540743],\n",
              "       [-0.37239558, -1.13750203, -0.25039146,  0.06987881],\n",
              "       [-0.35507485,  0.7284319 , -0.25039146, -0.3183368 ],\n",
              "       [-0.33775413,  1.30256542, -0.25039146,  0.03105725],\n",
              "       [-0.3204334 , -0.06100169, -0.25039146,  0.18634349],\n",
              "       [-0.30311268,  2.02023231, -0.25039146, -0.35715836],\n",
              "       [-0.28579196,  0.51313183, -0.25039146, -0.24069368],\n",
              "       [-0.26847123, -1.28103541, -0.25039146,  0.26398661],\n",
              "       [-0.25115051,  0.65666521, -0.25039146, -0.16305055],\n",
              "       [-0.23382978,  1.15903204, -0.13588317,  0.30280817],\n",
              "       [-0.21650906, -1.20926872, -0.13588317,  0.18634349],\n",
              "       [-0.19918833, -0.34806844, -0.09771374,  0.38045129],\n",
              "       [-0.18186761,  0.80019859, -0.09771374, -0.16305055],\n",
              "       [-0.16454688,  2.091999  , -0.05954431,  0.18634349],\n",
              "       [-0.14722616, -1.49633548, -0.05954431, -0.35715836],\n",
              "       [-0.12990543,  0.65666521, -0.02137488, -0.04658587],\n",
              "       [-0.11258471,  0.08253169, -0.02137488, -0.39597992],\n",
              "       [-0.09526399, -0.49160182, -0.02137488, -0.3183368 ],\n",
              "       [-0.07794326, -1.06573534, -0.02137488,  0.06987881],\n",
              "       [-0.06062254,  0.58489852, -0.02137488, -0.12422899],\n",
              "       [-0.04330181, -0.85043527, -0.02137488, -0.00776431],\n",
              "       [-0.02598109,  0.65666521,  0.01679455, -0.3183368 ],\n",
              "       [-0.00866036, -1.3528021 ,  0.01679455, -0.04658587],\n",
              "       [ 0.00866036, -1.13750203,  0.05496398, -0.35715836],\n",
              "       [ 0.02598109,  0.7284319 ,  0.05496398, -0.08540743],\n",
              "       [ 0.04330181,  2.02023231,  0.05496398,  0.34162973],\n",
              "       [ 0.06062254, -0.92220196,  0.05496398,  0.18634349],\n",
              "       [ 0.07794326,  0.7284319 ,  0.05496398,  0.22516505],\n",
              "       [ 0.09526399, -1.28103541,  0.05496398, -0.3183368 ],\n",
              "       [ 0.11258471,  1.94846562,  0.09313341, -0.00776431],\n",
              "       [ 0.12990543,  1.08726535,  0.09313341, -0.16305055],\n",
              "       [ 0.14722616,  2.091999  ,  0.09313341, -0.27951524],\n",
              "       [ 0.16454688,  1.94846562,  0.09313341, -0.08540743],\n",
              "       [ 0.18186761,  1.87669894,  0.09313341,  0.06987881],\n",
              "       [ 0.19918833, -1.42456879,  0.09313341,  0.14752193],\n",
              "       [ 0.21650906, -0.06100169,  0.13130284, -0.3183368 ],\n",
              "       [ 0.23382978, -1.42456879,  0.13130284, -0.16305055],\n",
              "       [ 0.25115051, -1.49633548,  0.16947227, -0.08540743],\n",
              "       [ 0.26847123, -1.42456879,  0.16947227, -0.00776431],\n",
              "       [ 0.28579196,  1.73316556,  0.16947227, -0.27951524],\n",
              "       [ 0.30311268,  0.7284319 ,  0.16947227,  0.34162973],\n",
              "       [ 0.3204334 ,  0.87196528,  0.24581112, -0.27951524],\n",
              "       [ 0.33775413,  0.80019859,  0.24581112,  0.26398661],\n",
              "       [ 0.35507485, -0.85043527,  0.24581112,  0.22516505],\n",
              "       [ 0.37239558, -0.06100169,  0.24581112, -0.39597992],\n",
              "       [ 0.3897163 ,  0.08253169,  0.32214998,  0.30280817],\n",
              "       [ 0.40703703,  0.010765  ,  0.32214998,  1.58391968],\n",
              "       [ 0.42435775, -1.13750203,  0.36031941, -0.82301709],\n",
              "       [ 0.44167848, -0.56336851,  0.36031941,  1.04041783],\n",
              "       [ 0.4589992 ,  0.29783176,  0.39848884, -0.59008772],\n",
              "       [ 0.47631993,  0.08253169,  0.39848884,  1.73920592],\n",
              "       [ 0.49364065,  1.4460988 ,  0.39848884, -1.52180518],\n",
              "       [ 0.51096138, -0.06100169,  0.39848884,  0.96277471],\n",
              "       [ 0.5282821 ,  0.58489852,  0.39848884, -1.5994483 ],\n",
              "       [ 0.54560282,  0.010765  ,  0.39848884,  0.96277471],\n",
              "       [ 0.56292355, -0.99396865,  0.43665827, -0.62890928],\n",
              "       [ 0.58024427, -0.56336851,  0.43665827,  0.80748846],\n",
              "       [ 0.597565  , -1.3528021 ,  0.4748277 , -1.75473454],\n",
              "       [ 0.61488572, -0.70690189,  0.4748277 ,  1.46745499],\n",
              "       [ 0.63220645,  0.36959845,  0.4748277 , -1.67709142],\n",
              "       [ 0.64952717, -0.49160182,  0.4748277 ,  0.88513158],\n",
              "       [ 0.6668479 , -1.42456879,  0.51299713, -1.56062674],\n",
              "       [ 0.68416862, -0.27630176,  0.51299713,  0.84631002],\n",
              "       [ 0.70148935,  1.30256542,  0.55116656, -1.75473454],\n",
              "       [ 0.71881007, -0.49160182,  0.55116656,  1.6615628 ],\n",
              "       [ 0.73613079, -0.77866858,  0.58933599, -0.39597992],\n",
              "       [ 0.75345152, -0.49160182,  0.58933599,  1.42863343],\n",
              "       [ 0.77077224, -0.99396865,  0.62750542, -1.48298362],\n",
              "       [ 0.78809297, -0.77866858,  0.62750542,  1.81684904],\n",
              "       [ 0.80541369,  0.65666521,  0.62750542, -0.55126616],\n",
              "       [ 0.82273442, -0.49160182,  0.62750542,  0.92395314],\n",
              "       [ 0.84005514, -0.34806844,  0.66567484, -1.09476801],\n",
              "       [ 0.85737587, -0.34806844,  0.66567484,  1.54509812],\n",
              "       [ 0.87469659,  0.29783176,  0.66567484, -1.28887582],\n",
              "       [ 0.89201732,  0.010765  ,  0.66567484,  1.46745499],\n",
              "       [ 0.90933804,  0.36959845,  0.66567484, -1.17241113],\n",
              "       [ 0.92665877, -0.06100169,  0.66567484,  1.00159627],\n",
              "       [ 0.94397949,  0.58489852,  0.66567484, -1.32769738],\n",
              "       [ 0.96130021, -0.85043527,  0.66567484,  1.50627656],\n",
              "       [ 0.97862094, -0.13276838,  0.66567484, -1.91002079],\n",
              "       [ 0.99594166, -0.6351352 ,  0.66567484,  1.07923939],\n",
              "       [ 1.01326239, -0.34806844,  0.66567484, -1.91002079],\n",
              "       [ 1.03058311, -0.6351352 ,  0.66567484,  0.88513158],\n",
              "       [ 1.04790384,  1.23079873,  0.70384427, -0.59008772],\n",
              "       [ 1.06522456, -0.70690189,  0.70384427,  1.27334719],\n",
              "       [ 1.08254529, -1.42456879,  0.78018313, -1.75473454],\n",
              "       [ 1.09986601, -0.56336851,  0.78018313,  1.6615628 ],\n",
              "       [ 1.11718674,  0.80019859,  0.93286085, -0.93948177],\n",
              "       [ 1.13450746, -0.20453507,  0.93286085,  0.96277471],\n",
              "       [ 1.15182818,  0.22606507,  0.97103028, -1.17241113],\n",
              "       [ 1.16914891, -0.41983513,  0.97103028,  1.73920592],\n",
              "       [ 1.18646963, -0.20453507,  1.00919971, -0.90066021],\n",
              "       [ 1.20379036, -0.49160182,  1.00919971,  0.49691598],\n",
              "       [ 1.22111108,  0.08253169,  1.00919971, -1.44416206],\n",
              "       [ 1.23843181, -0.77866858,  1.00919971,  0.96277471],\n",
              "       [ 1.25575253, -0.20453507,  1.00919971, -1.56062674],\n",
              "       [ 1.27307326, -0.20453507,  1.00919971,  1.62274124],\n",
              "       [ 1.29039398,  0.94373197,  1.04736914, -1.44416206],\n",
              "       [ 1.30771471, -0.6351352 ,  1.04736914,  1.38981187],\n",
              "       [ 1.32503543,  1.37433211,  1.04736914, -1.36651894],\n",
              "       [ 1.34235616, -0.85043527,  1.04736914,  0.72984534],\n",
              "       [ 1.35967688,  1.4460988 ,  1.23821628, -1.4053405 ],\n",
              "       [ 1.3769976 , -0.27630176,  1.23821628,  1.54509812],\n",
              "       [ 1.39431833, -0.13276838,  1.390894  , -0.7065524 ],\n",
              "       [ 1.41163905, -0.49160182,  1.390894  ,  1.38981187],\n",
              "       [ 1.42895978,  0.51313183,  1.42906343, -1.36651894],\n",
              "       [ 1.4462805 , -0.70690189,  1.42906343,  1.46745499],\n",
              "       [ 1.46360123,  0.15429838,  1.46723286, -0.43480148],\n",
              "       [ 1.48092195, -0.6351352 ,  1.46723286,  1.81684904],\n",
              "       [ 1.49824268,  1.08726535,  1.54357172, -1.01712489],\n",
              "       [ 1.5155634 , -0.77866858,  1.54357172,  0.69102378],\n",
              "       [ 1.53288413,  0.15429838,  1.61991057, -1.28887582],\n",
              "       [ 1.55020485, -0.20453507,  1.61991057,  1.35099031],\n",
              "       [ 1.56752558, -0.34806844,  1.61991057, -1.05594645],\n",
              "       [ 1.5848463 , -0.49160182,  1.61991057,  0.72984534],\n",
              "       [ 1.60216702, -0.41983513,  2.00160487, -1.63826986],\n",
              "       [ 1.61948775, -0.06100169,  2.00160487,  1.58391968],\n",
              "       [ 1.63680847,  0.58489852,  2.26879087, -1.32769738],\n",
              "       [ 1.6541292 , -0.27630176,  2.26879087,  1.11806095],\n",
              "       [ 1.67144992,  0.44136514,  2.49780745, -0.86183865],\n",
              "       [ 1.68877065, -0.49160182,  2.49780745,  0.92395314],\n",
              "       [ 1.70609137, -0.49160182,  2.91767117, -1.25005425],\n",
              "       [ 1.7234121 , -0.6351352 ,  2.91767117,  1.27334719]])"
            ]
          },
          "metadata": {},
          "execution_count": 39
        }
      ],
      "source": [
        "x"
      ]
    },
    {
      "cell_type": "code",
      "execution_count": null,
      "metadata": {
        "colab": {
          "base_uri": "https://localhost:8080/"
        },
        "id": "Y4QHxLLLXb85",
        "outputId": "fe89984b-c2f7-4498-8ab5-84ca46ae5011"
      },
      "outputs": [
        {
          "output_type": "execute_result",
          "data": {
            "text/plain": [
              "-1.1546319456101628e-16"
            ]
          },
          "metadata": {},
          "execution_count": 34
        }
      ],
      "source": [
        "x.mean()"
      ]
    },
    {
      "cell_type": "code",
      "execution_count": null,
      "metadata": {
        "colab": {
          "base_uri": "https://localhost:8080/"
        },
        "id": "79Y9UycRXcKB",
        "outputId": "da10b154-6965-4af5-9cb8-f56f05f852ef"
      },
      "outputs": [
        {
          "output_type": "execute_result",
          "data": {
            "text/plain": [
              "1.0"
            ]
          },
          "metadata": {},
          "execution_count": 35
        }
      ],
      "source": [
        "x.std()"
      ]
    },
    {
      "cell_type": "code",
      "execution_count": null,
      "metadata": {
        "id": "ZX0flSxYXcoo"
      },
      "outputs": [],
      "source": [
        "# perform any of the clustering algorithm"
      ]
    },
    {
      "cell_type": "code",
      "execution_count": null,
      "metadata": {
        "id": "LeHEetFnXc6U"
      },
      "outputs": [],
      "source": [
        "from sklearn.cluster import KMeans"
      ]
    },
    {
      "cell_type": "code",
      "execution_count": null,
      "metadata": {
        "id": "GXedpbeIvhMp"
      },
      "outputs": [],
      "source": [
        "TWSS=[]\n",
        "for i in range(1,11):\n",
        "    kmeans=KMeans(n_clusters=i)\n",
        "    kmeans.fit(x)\n",
        "    TWSS.append(kmeans.inertia_)"
      ]
    },
    {
      "cell_type": "code",
      "execution_count": null,
      "metadata": {
        "colab": {
          "base_uri": "https://localhost:8080/"
        },
        "id": "28P-mwGuvhZi",
        "outputId": "24155736-c8ed-4071-fce7-d1de7521b573"
      },
      "outputs": [
        {
          "output_type": "execute_result",
          "data": {
            "text/plain": [
              "[800.0,\n",
              " 515.6688891233371,\n",
              " 375.2643070614756,\n",
              " 259.69362556823944,\n",
              " 209.5783837699584,\n",
              " 160.97567568819875,\n",
              " 146.66302287394308,\n",
              " 129.4694198750451,\n",
              " 116.68243523901893,\n",
              " 103.95937125647615]"
            ]
          },
          "metadata": {},
          "execution_count": 38
        }
      ],
      "source": [
        "TWSS"
      ]
    },
    {
      "cell_type": "code",
      "execution_count": null,
      "metadata": {
        "colab": {
          "base_uri": "https://localhost:8080/",
          "height": 388
        },
        "id": "I0dnY7JpvhgT",
        "outputId": "a1d7891d-d98d-46e6-8657-2bdb3d91d0c5"
      },
      "outputs": [
        {
          "output_type": "display_data",
          "data": {
            "text/plain": [
              "<Figure size 864x432 with 1 Axes>"
            ],
            "image/png": "[encoded data removed]"
          },
          "metadata": {
            "needs_background": "light"
          }
        }
      ],
      "source": [
        "plt.figure(figsize=(12,6))\n",
        "plt.plot(range(1,11),TWSS)\n",
        "plt.plot(range(1,11),TWSS, linewidth=2, color=\"red\", marker =\"8\")\n",
        "plt.xlabel(\"K Value\")\n",
        "plt.xticks(np.arange(1,11,1))\n",
        "plt.ylabel(\"TWSS\")\n",
        "plt.show()"
      ]
    },
    {
      "cell_type": "code",
      "execution_count": null,
      "metadata": {
        "colab": {
          "base_uri": "https://localhost:8080/"
        },
        "id": "T7IMwPIuvhlp",
        "outputId": "9caa902f-70d0-4290-dfd2-dc1fdaea085e"
      },
      "outputs": [
        {
          "output_type": "execute_result",
          "data": {
            "text/plain": [
              "KMeans(n_clusters=3)"
            ]
          },
          "metadata": {},
          "execution_count": 40
        }
      ],
      "source": [
        "model=KMeans(n_clusters=3)\n",
        "model.fit(x)"
      ]
    },
    {
      "cell_type": "code",
      "execution_count": null,
      "metadata": {
        "colab": {
          "base_uri": "https://localhost:8080/"
        },
        "id": "Wk61cS7uvhsp",
        "outputId": "9209bd04-0fdc-4c73-f9a5-7d99b4edbf7d"
      },
      "outputs": [
        {
          "output_type": "execute_result",
          "data": {
            "text/plain": [
              "array([0, 0, 0, 0, 0, 0, 0, 0, 2, 0, 2, 0, 2, 0, 0, 0, 0, 0, 2, 0, 0, 0,\n",
              "       2, 0, 2, 0, 2, 0, 0, 0, 2, 0, 2, 0, 2, 0, 2, 0, 0, 0, 2, 0, 2, 0,\n",
              "       2, 0, 2, 0, 0, 0, 2, 0, 0, 2, 2, 2, 2, 2, 0, 2, 2, 0, 2, 2, 2, 0,\n",
              "       2, 2, 0, 0, 2, 2, 2, 2, 2, 0, 2, 2, 0, 2, 2, 2, 2, 2, 0, 2, 2, 0,\n",
              "       0, 2, 2, 0, 2, 2, 1, 0, 2, 1, 2, 0, 1, 2, 2, 1, 2, 1, 2, 2, 2, 2,\n",
              "       2, 1, 1, 1, 1, 1, 2, 2, 2, 2, 1, 1, 1, 1, 1, 1, 1, 1, 2, 1, 2, 1,\n",
              "       1, 1, 1, 1, 1, 1, 1, 1, 2, 1, 1, 1, 1, 1, 1, 1, 1, 1, 1, 1, 1, 1,\n",
              "       1, 1, 1, 1, 1, 1, 1, 1, 1, 1, 1, 1, 1, 1, 1, 1, 1, 1, 1, 1, 1, 1,\n",
              "       1, 1, 1, 1, 1, 1, 1, 1, 1, 1, 1, 1, 1, 1, 1, 1, 1, 1, 1, 1, 1, 1,\n",
              "       1, 1], dtype=int32)"
            ]
          },
          "metadata": {},
          "execution_count": 41
        }
      ],
      "source": [
        "model.labels_"
      ]
    },
    {
      "cell_type": "code",
      "execution_count": null,
      "metadata": {
        "id": "hDgAc70Gvh2X"
      },
      "outputs": [],
      "source": [
        "mb=pd.Series(model.labels_)"
      ]
    },
    {
      "cell_type": "code",
      "execution_count": null,
      "metadata": {
        "colab": {
          "base_uri": "https://localhost:8080/",
          "height": 206
        },
        "id": "OlrIiW_4vh_p",
        "outputId": "af4cb4a3-cdc1-42a2-a1f0-1ec71b12851d"
      },
      "outputs": [
        {
          "output_type": "execute_result",
          "data": {
            "text/plain": [
              "   CustomerID  Gender  Age  Annual Income (k$)  Spending Score (1-100)\n",
              "0           1    Male   19                  15                      39\n",
              "1           2    Male   21                  15                      81\n",
              "2           3  Female   20                  16                       6\n",
              "3           4  Female   23                  16                      77\n",
              "4           5  Female   31                  17                      40"
            ],
            "text/html": [
              "\n",
              "  <div id=\"df-8641ab9d-c82e-4586-b41d-58fffc9243c5\">\n",
              "    <div class=\"colab-df-container\">\n",
              "      <div>\n",
              "<style scoped>\n",
              "    .dataframe tbody tr th:only-of-type {\n",
              "        vertical-align: middle;\n",
              "    }\n",
              "\n",
              "    .dataframe tbody tr th {\n",
              "        vertical-align: top;\n",
              "    }\n",
              "\n",
              "    .dataframe thead th {\n",
              "        text-align: right;\n",
              "    }\n",
              "</style>\n",
              "<table border=\"1\" class=\"dataframe\">\n",
              "  <thead>\n",
              "    <tr style=\"text-align: right;\">\n",
              "      <th></th>\n",
              "      <th>CustomerID</th>\n",
              "      <th>Gender</th>\n",
              "      <th>Age</th>\n",
              "      <th>Annual Income (k$)</th>\n",
              "      <th>Spending Score (1-100)</th>\n",
              "    </tr>\n",
              "  </thead>\n",
              "  <tbody>\n",
              "    <tr>\n",
              "      <th>0</th>\n",
              "      <td>1</td>\n",
              "      <td>Male</td>\n",
              "      <td>19</td>\n",
              "      <td>15</td>\n",
              "      <td>39</td>\n",
              "    </tr>\n",
              "    <tr>\n",
              "      <th>1</th>\n",
              "      <td>2</td>\n",
              "      <td>Male</td>\n",
              "      <td>21</td>\n",
              "      <td>15</td>\n",
              "      <td>81</td>\n",
              "    </tr>\n",
              "    <tr>\n",
              "      <th>2</th>\n",
              "      <td>3</td>\n",
              "      <td>Female</td>\n",
              "      <td>20</td>\n",
              "      <td>16</td>\n",
              "      <td>6</td>\n",
              "    </tr>\n",
              "    <tr>\n",
              "      <th>3</th>\n",
              "      <td>4</td>\n",
              "      <td>Female</td>\n",
              "      <td>23</td>\n",
              "      <td>16</td>\n",
              "      <td>77</td>\n",
              "    </tr>\n",
              "    <tr>\n",
              "      <th>4</th>\n",
              "      <td>5</td>\n",
              "      <td>Female</td>\n",
              "      <td>31</td>\n",
              "      <td>17</td>\n",
              "      <td>40</td>\n",
              "    </tr>\n",
              "  </tbody>\n",
              "</table>\n",
              "</div>\n",
              "      <button class=\"colab-df-convert\" onclick=\"convertToInteractive('df-8641ab9d-c82e-4586-b41d-58fffc9243c5')\"\n",
              "              title=\"Convert this dataframe to an interactive table.\"\n",
              "              style=\"display:none;\">\n",
              "        \n",
              "  <svg xmlns=\"http://www.w3.org/2000/svg\" height=\"24px\"viewBox=\"0 0 24 24\"\n",
              "       width=\"24px\">\n",
              "    <path d=\"M0 0h24v24H0V0z\" fill=\"none\"/>\n",
              "    <path d=\"M18.56 5.44l.94 2.06.94-2.06 2.06-.94-2.06-.94-.94-2.06-.94 2.06-2.06.94zm-11 1L8.5 8.5l.94-2.06 2.06-.94-2.06-.94L8.5 2.5l-.94 2.06-2.06.94zm10 10l.94 2.06.94-2.06 2.06-.94-2.06-.94-.94-2.06-.94 2.06-2.06.94z\"/><path d=\"M17.41 7.96l-1.37-1.37c-.4-.4-.92-.59-1.43-.59-.52 0-1.04.2-1.43.59L10.3 9.45l-7.72 7.72c-.78.78-.78 2.05 0 2.83L4 21.41c.39.39.9.59 1.41.59.51 0 1.02-.2 1.41-.59l7.78-7.78 2.81-2.81c.8-.78.8-2.07 0-2.86zM5.41 20L4 18.59l7.72-7.72 1.47 1.35L5.41 20z\"/>\n",
              "  </svg>\n",
              "      </button>\n",
              "      \n",
              "  <style>\n",
              "    .colab-df-container {\n",
              "      display:flex;\n",
              "      flex-wrap:wrap;\n",
              "      gap: 12px;\n",
              "    }\n",
              "\n",
              "    .colab-df-convert {\n",
              "      background-color: #E8F0FE;\n",
              "      border: none;\n",
              "      border-radius: 50%;\n",
              "      cursor: pointer;\n",
              "      display: none;\n",
              "      fill: #1967D2;\n",
              "      height: 32px;\n",
              "      padding: 0 0 0 0;\n",
              "      width: 32px;\n",
              "    }\n",
              "\n",
              "    .colab-df-convert:hover {\n",
              "      background-color: #E2EBFA;\n",
              "      box-shadow: 0px 1px 2px rgba(60, 64, 67, 0.3), 0px 1px 3px 1px rgba(60, 64, 67, 0.15);\n",
              "      fill: #174EA6;\n",
              "    }\n",
              "\n",
              "    [theme=dark] .colab-df-convert {\n",
              "      background-color: #3B4455;\n",
              "      fill: #D2E3FC;\n",
              "    }\n",
              "\n",
              "    [theme=dark] .colab-df-convert:hover {\n",
              "      background-color: #434B5C;\n",
              "      box-shadow: 0px 1px 3px 1px rgba(0, 0, 0, 0.15);\n",
              "      filter: drop-shadow(0px 1px 2px rgba(0, 0, 0, 0.3));\n",
              "      fill: #FFFFFF;\n",
              "    }\n",
              "  </style>\n",
              "\n",
              "      <script>\n",
              "        const buttonEl =\n",
              "          document.querySelector('#df-8641ab9d-c82e-4586-b41d-58fffc9243c5 button.colab-df-convert');\n",
              "        buttonEl.style.display =\n",
              "          google.colab.kernel.accessAllowed ? 'block' : 'none';\n",
              "\n",
              "        async function convertToInteractive(key) {\n",
              "          const element = document.querySelector('#df-8641ab9d-c82e-4586-b41d-58fffc9243c5');\n",
              "          const dataTable =\n",
              "            await google.colab.kernel.invokeFunction('convertToInteractive',\n",
              "                                                     [key], {});\n",
              "          if (!dataTable) return;\n",
              "\n",
              "          const docLinkHtml = 'Like what you see? Visit the ' +\n",
              "            '<a target=\"_blank\" href=https://colab.research.google.com/notebooks/data_table.ipynb>data table notebook</a>'\n",
              "            + ' to learn more about interactive tables.';\n",
              "          element.innerHTML = '';\n",
              "          dataTable['output_type'] = 'display_data';\n",
              "          await google.colab.output.renderOutput(dataTable, element);\n",
              "          const docLink = document.createElement('div');\n",
              "          docLink.innerHTML = docLinkHtml;\n",
              "          element.appendChild(docLink);\n",
              "        }\n",
              "      </script>\n",
              "    </div>\n",
              "  </div>\n",
              "  "
            ]
          },
          "metadata": {},
          "execution_count": 43
        }
      ],
      "source": [
        "data.head()"
      ]
    },
    {
      "cell_type": "code",
      "execution_count": null,
      "metadata": {
        "id": "cxsqWYR-bQQn"
      },
      "outputs": [],
      "source": [
        "# add the clusters data with the primary dataset"
      ]
    },
    {
      "cell_type": "code",
      "execution_count": null,
      "metadata": {
        "id": "uUyqpqvnviEH"
      },
      "outputs": [],
      "source": [
        "data['clust']=mb"
      ]
    },
    {
      "cell_type": "code",
      "execution_count": null,
      "metadata": {
        "colab": {
          "base_uri": "https://localhost:8080/",
          "height": 206
        },
        "id": "dTuMvKkHviI8",
        "outputId": "5163ac42-03d3-4c98-dd97-2581db844648"
      },
      "outputs": [
        {
          "output_type": "execute_result",
          "data": {
            "text/plain": [
              "   CustomerID  Gender  Age  Annual Income (k$)  Spending Score (1-100)  clust\n",
              "0           1    Male   19                  15                      39      0\n",
              "1           2    Male   21                  15                      81      0\n",
              "2           3  Female   20                  16                       6      0\n",
              "3           4  Female   23                  16                      77      0\n",
              "4           5  Female   31                  17                      40      0"
            ],
            "text/html": [
              "\n",
              "  <div id=\"df-0ee0a0eb-0dd7-496e-8025-c15559a89466\">\n",
              "    <div class=\"colab-df-container\">\n",
              "      <div>\n",
              "<style scoped>\n",
              "    .dataframe tbody tr th:only-of-type {\n",
              "        vertical-align: middle;\n",
              "    }\n",
              "\n",
              "    .dataframe tbody tr th {\n",
              "        vertical-align: top;\n",
              "    }\n",
              "\n",
              "    .dataframe thead th {\n",
              "        text-align: right;\n",
              "    }\n",
              "</style>\n",
              "<table border=\"1\" class=\"dataframe\">\n",
              "  <thead>\n",
              "    <tr style=\"text-align: right;\">\n",
              "      <th></th>\n",
              "      <th>CustomerID</th>\n",
              "      <th>Gender</th>\n",
              "      <th>Age</th>\n",
              "      <th>Annual Income (k$)</th>\n",
              "      <th>Spending Score (1-100)</th>\n",
              "      <th>clust</th>\n",
              "    </tr>\n",
              "  </thead>\n",
              "  <tbody>\n",
              "    <tr>\n",
              "      <th>0</th>\n",
              "      <td>1</td>\n",
              "      <td>Male</td>\n",
              "      <td>19</td>\n",
              "      <td>15</td>\n",
              "      <td>39</td>\n",
              "      <td>0</td>\n",
              "    </tr>\n",
              "    <tr>\n",
              "      <th>1</th>\n",
              "      <td>2</td>\n",
              "      <td>Male</td>\n",
              "      <td>21</td>\n",
              "      <td>15</td>\n",
              "      <td>81</td>\n",
              "      <td>0</td>\n",
              "    </tr>\n",
              "    <tr>\n",
              "      <th>2</th>\n",
              "      <td>3</td>\n",
              "      <td>Female</td>\n",
              "      <td>20</td>\n",
              "      <td>16</td>\n",
              "      <td>6</td>\n",
              "      <td>0</td>\n",
              "    </tr>\n",
              "    <tr>\n",
              "      <th>3</th>\n",
              "      <td>4</td>\n",
              "      <td>Female</td>\n",
              "      <td>23</td>\n",
              "      <td>16</td>\n",
              "      <td>77</td>\n",
              "      <td>0</td>\n",
              "    </tr>\n",
              "    <tr>\n",
              "      <th>4</th>\n",
              "      <td>5</td>\n",
              "      <td>Female</td>\n",
              "      <td>31</td>\n",
              "      <td>17</td>\n",
              "      <td>40</td>\n",
              "      <td>0</td>\n",
              "    </tr>\n",
              "  </tbody>\n",
              "</table>\n",
              "</div>\n",
              "      <button class=\"colab-df-convert\" onclick=\"convertToInteractive('df-0ee0a0eb-0dd7-496e-8025-c15559a89466')\"\n",
              "              title=\"Convert this dataframe to an interactive table.\"\n",
              "              style=\"display:none;\">\n",
              "        \n",
              "  <svg xmlns=\"http://www.w3.org/2000/svg\" height=\"24px\"viewBox=\"0 0 24 24\"\n",
              "       width=\"24px\">\n",
              "    <path d=\"M0 0h24v24H0V0z\" fill=\"none\"/>\n",
              "    <path d=\"M18.56 5.44l.94 2.06.94-2.06 2.06-.94-2.06-.94-.94-2.06-.94 2.06-2.06.94zm-11 1L8.5 8.5l.94-2.06 2.06-.94-2.06-.94L8.5 2.5l-.94 2.06-2.06.94zm10 10l.94 2.06.94-2.06 2.06-.94-2.06-.94-.94-2.06-.94 2.06-2.06.94z\"/><path d=\"M17.41 7.96l-1.37-1.37c-.4-.4-.92-.59-1.43-.59-.52 0-1.04.2-1.43.59L10.3 9.45l-7.72 7.72c-.78.78-.78 2.05 0 2.83L4 21.41c.39.39.9.59 1.41.59.51 0 1.02-.2 1.41-.59l7.78-7.78 2.81-2.81c.8-.78.8-2.07 0-2.86zM5.41 20L4 18.59l7.72-7.72 1.47 1.35L5.41 20z\"/>\n",
              "  </svg>\n",
              "      </button>\n",
              "      \n",
              "  <style>\n",
              "    .colab-df-container {\n",
              "      display:flex;\n",
              "      flex-wrap:wrap;\n",
              "      gap: 12px;\n",
              "    }\n",
              "\n",
              "    .colab-df-convert {\n",
              "      background-color: #E8F0FE;\n",
              "      border: none;\n",
              "      border-radius: 50%;\n",
              "      cursor: pointer;\n",
              "      display: none;\n",
              "      fill: #1967D2;\n",
              "      height: 32px;\n",
              "      padding: 0 0 0 0;\n",
              "      width: 32px;\n",
              "    }\n",
              "\n",
              "    .colab-df-convert:hover {\n",
              "      background-color: #E2EBFA;\n",
              "      box-shadow: 0px 1px 2px rgba(60, 64, 67, 0.3), 0px 1px 3px 1px rgba(60, 64, 67, 0.15);\n",
              "      fill: #174EA6;\n",
              "    }\n",
              "\n",
              "    [theme=dark] .colab-df-convert {\n",
              "      background-color: #3B4455;\n",
              "      fill: #D2E3FC;\n",
              "    }\n",
              "\n",
              "    [theme=dark] .colab-df-convert:hover {\n",
              "      background-color: #434B5C;\n",
              "      box-shadow: 0px 1px 3px 1px rgba(0, 0, 0, 0.15);\n",
              "      filter: drop-shadow(0px 1px 2px rgba(0, 0, 0, 0.3));\n",
              "      fill: #FFFFFF;\n",
              "    }\n",
              "  </style>\n",
              "\n",
              "      <script>\n",
              "        const buttonEl =\n",
              "          document.querySelector('#df-0ee0a0eb-0dd7-496e-8025-c15559a89466 button.colab-df-convert');\n",
              "        buttonEl.style.display =\n",
              "          google.colab.kernel.accessAllowed ? 'block' : 'none';\n",
              "\n",
              "        async function convertToInteractive(key) {\n",
              "          const element = document.querySelector('#df-0ee0a0eb-0dd7-496e-8025-c15559a89466');\n",
              "          const dataTable =\n",
              "            await google.colab.kernel.invokeFunction('convertToInteractive',\n",
              "                                                     [key], {});\n",
              "          if (!dataTable) return;\n",
              "\n",
              "          const docLinkHtml = 'Like what you see? Visit the ' +\n",
              "            '<a target=\"_blank\" href=https://colab.research.google.com/notebooks/data_table.ipynb>data table notebook</a>'\n",
              "            + ' to learn more about interactive tables.';\n",
              "          element.innerHTML = '';\n",
              "          dataTable['output_type'] = 'display_data';\n",
              "          await google.colab.output.renderOutput(dataTable, element);\n",
              "          const docLink = document.createElement('div');\n",
              "          docLink.innerHTML = docLinkHtml;\n",
              "          element.appendChild(docLink);\n",
              "        }\n",
              "      </script>\n",
              "    </div>\n",
              "  </div>\n",
              "  "
            ]
          },
          "metadata": {},
          "execution_count": 45
        }
      ],
      "source": [
        "data.head()"
      ]
    },
    {
      "cell_type": "code",
      "execution_count": null,
      "metadata": {
        "colab": {
          "base_uri": "https://localhost:8080/",
          "height": 206
        },
        "id": "KcvDmz51yAx9",
        "outputId": "0af8d9af-1033-4d12-ee15-787bcc5e5951"
      },
      "outputs": [
        {
          "output_type": "execute_result",
          "data": {
            "text/plain": [
              "     CustomerID  Gender  Age  Annual Income (k$)  Spending Score (1-100)  \\\n",
              "195         196  Female   35                 120                      79   \n",
              "196         197  Female   45                 126                      28   \n",
              "197         198    Male   32                 126                      74   \n",
              "198         199    Male   32                 137                      18   \n",
              "199         200    Male   30                 137                      83   \n",
              "\n",
              "     clust  \n",
              "195      1  \n",
              "196      1  \n",
              "197      1  \n",
              "198      1  \n",
              "199      1  "
            ],
            "text/html": [
              "\n",
              "  <div id=\"df-09162e95-3b59-4b5b-bfd9-5d474df971ce\">\n",
              "    <div class=\"colab-df-container\">\n",
              "      <div>\n",
              "<style scoped>\n",
              "    .dataframe tbody tr th:only-of-type {\n",
              "        vertical-align: middle;\n",
              "    }\n",
              "\n",
              "    .dataframe tbody tr th {\n",
              "        vertical-align: top;\n",
              "    }\n",
              "\n",
              "    .dataframe thead th {\n",
              "        text-align: right;\n",
              "    }\n",
              "</style>\n",
              "<table border=\"1\" class=\"dataframe\">\n",
              "  <thead>\n",
              "    <tr style=\"text-align: right;\">\n",
              "      <th></th>\n",
              "      <th>CustomerID</th>\n",
              "      <th>Gender</th>\n",
              "      <th>Age</th>\n",
              "      <th>Annual Income (k$)</th>\n",
              "      <th>Spending Score (1-100)</th>\n",
              "      <th>clust</th>\n",
              "    </tr>\n",
              "  </thead>\n",
              "  <tbody>\n",
              "    <tr>\n",
              "      <th>195</th>\n",
              "      <td>196</td>\n",
              "      <td>Female</td>\n",
              "      <td>35</td>\n",
              "      <td>120</td>\n",
              "      <td>79</td>\n",
              "      <td>1</td>\n",
              "    </tr>\n",
              "    <tr>\n",
              "      <th>196</th>\n",
              "      <td>197</td>\n",
              "      <td>Female</td>\n",
              "      <td>45</td>\n",
              "      <td>126</td>\n",
              "      <td>28</td>\n",
              "      <td>1</td>\n",
              "    </tr>\n",
              "    <tr>\n",
              "      <th>197</th>\n",
              "      <td>198</td>\n",
              "      <td>Male</td>\n",
              "      <td>32</td>\n",
              "      <td>126</td>\n",
              "      <td>74</td>\n",
              "      <td>1</td>\n",
              "    </tr>\n",
              "    <tr>\n",
              "      <th>198</th>\n",
              "      <td>199</td>\n",
              "      <td>Male</td>\n",
              "      <td>32</td>\n",
              "      <td>137</td>\n",
              "      <td>18</td>\n",
              "      <td>1</td>\n",
              "    </tr>\n",
              "    <tr>\n",
              "      <th>199</th>\n",
              "      <td>200</td>\n",
              "      <td>Male</td>\n",
              "      <td>30</td>\n",
              "      <td>137</td>\n",
              "      <td>83</td>\n",
              "      <td>1</td>\n",
              "    </tr>\n",
              "  </tbody>\n",
              "</table>\n",
              "</div>\n",
              "      <button class=\"colab-df-convert\" onclick=\"convertToInteractive('df-09162e95-3b59-4b5b-bfd9-5d474df971ce')\"\n",
              "              title=\"Convert this dataframe to an interactive table.\"\n",
              "              style=\"display:none;\">\n",
              "        \n",
              "  <svg xmlns=\"http://www.w3.org/2000/svg\" height=\"24px\"viewBox=\"0 0 24 24\"\n",
              "       width=\"24px\">\n",
              "    <path d=\"M0 0h24v24H0V0z\" fill=\"none\"/>\n",
              "    <path d=\"M18.56 5.44l.94 2.06.94-2.06 2.06-.94-2.06-.94-.94-2.06-.94 2.06-2.06.94zm-11 1L8.5 8.5l.94-2.06 2.06-.94-2.06-.94L8.5 2.5l-.94 2.06-2.06.94zm10 10l.94 2.06.94-2.06 2.06-.94-2.06-.94-.94-2.06-.94 2.06-2.06.94z\"/><path d=\"M17.41 7.96l-1.37-1.37c-.4-.4-.92-.59-1.43-.59-.52 0-1.04.2-1.43.59L10.3 9.45l-7.72 7.72c-.78.78-.78 2.05 0 2.83L4 21.41c.39.39.9.59 1.41.59.51 0 1.02-.2 1.41-.59l7.78-7.78 2.81-2.81c.8-.78.8-2.07 0-2.86zM5.41 20L4 18.59l7.72-7.72 1.47 1.35L5.41 20z\"/>\n",
              "  </svg>\n",
              "      </button>\n",
              "      \n",
              "  <style>\n",
              "    .colab-df-container {\n",
              "      display:flex;\n",
              "      flex-wrap:wrap;\n",
              "      gap: 12px;\n",
              "    }\n",
              "\n",
              "    .colab-df-convert {\n",
              "      background-color: #E8F0FE;\n",
              "      border: none;\n",
              "      border-radius: 50%;\n",
              "      cursor: pointer;\n",
              "      display: none;\n",
              "      fill: #1967D2;\n",
              "      height: 32px;\n",
              "      padding: 0 0 0 0;\n",
              "      width: 32px;\n",
              "    }\n",
              "\n",
              "    .colab-df-convert:hover {\n",
              "      background-color: #E2EBFA;\n",
              "      box-shadow: 0px 1px 2px rgba(60, 64, 67, 0.3), 0px 1px 3px 1px rgba(60, 64, 67, 0.15);\n",
              "      fill: #174EA6;\n",
              "    }\n",
              "\n",
              "    [theme=dark] .colab-df-convert {\n",
              "      background-color: #3B4455;\n",
              "      fill: #D2E3FC;\n",
              "    }\n",
              "\n",
              "    [theme=dark] .colab-df-convert:hover {\n",
              "      background-color: #434B5C;\n",
              "      box-shadow: 0px 1px 3px 1px rgba(0, 0, 0, 0.15);\n",
              "      filter: drop-shadow(0px 1px 2px rgba(0, 0, 0, 0.3));\n",
              "      fill: #FFFFFF;\n",
              "    }\n",
              "  </style>\n",
              "\n",
              "      <script>\n",
              "        const buttonEl =\n",
              "          document.querySelector('#df-09162e95-3b59-4b5b-bfd9-5d474df971ce button.colab-df-convert');\n",
              "        buttonEl.style.display =\n",
              "          google.colab.kernel.accessAllowed ? 'block' : 'none';\n",
              "\n",
              "        async function convertToInteractive(key) {\n",
              "          const element = document.querySelector('#df-09162e95-3b59-4b5b-bfd9-5d474df971ce');\n",
              "          const dataTable =\n",
              "            await google.colab.kernel.invokeFunction('convertToInteractive',\n",
              "                                                     [key], {});\n",
              "          if (!dataTable) return;\n",
              "\n",
              "          const docLinkHtml = 'Like what you see? Visit the ' +\n",
              "            '<a target=\"_blank\" href=https://colab.research.google.com/notebooks/data_table.ipynb>data table notebook</a>'\n",
              "            + ' to learn more about interactive tables.';\n",
              "          element.innerHTML = '';\n",
              "          dataTable['output_type'] = 'display_data';\n",
              "          await google.colab.output.renderOutput(dataTable, element);\n",
              "          const docLink = document.createElement('div');\n",
              "          docLink.innerHTML = docLinkHtml;\n",
              "          element.appendChild(docLink);\n",
              "        }\n",
              "      </script>\n",
              "    </div>\n",
              "  </div>\n",
              "  "
            ]
          },
          "metadata": {},
          "execution_count": 46
        }
      ],
      "source": [
        "data.tail()"
      ]
    },
    {
      "cell_type": "code",
      "execution_count": null,
      "metadata": {
        "id": "MR-pN8teyBHT"
      },
      "outputs": [],
      "source": [
        "data.to_csv('kmeans_Mall_customers.csv',encoding='utf-8')"
      ]
    },
    {
      "cell_type": "code",
      "execution_count": null,
      "metadata": {
        "colab": {
          "base_uri": "https://localhost:8080/",
          "height": 35
        },
        "id": "iQn6GbBUyBMi",
        "outputId": "cab0c91e-ddc0-48bd-ec22-56733a16c97f"
      },
      "outputs": [
        {
          "output_type": "execute_result",
          "data": {
            "text/plain": [
              "'/content'"
            ],
            "application/vnd.google.colaboratory.intrinsic+json": {
              "type": "string"
            }
          },
          "metadata": {},
          "execution_count": 48
        }
      ],
      "source": [
        "import os\n",
        "os.getcwd()"
      ]
    },
    {
      "cell_type": "code",
      "execution_count": null,
      "metadata": {
        "id": "Op_dH1G5yBW2"
      },
      "outputs": [],
      "source": [
        "# split the data into depandent and independent variables"
      ]
    },
    {
      "cell_type": "code",
      "execution_count": null,
      "metadata": {
        "id": "7tZudiyIb_4c"
      },
      "outputs": [],
      "source": [
        "x=df['Annual Income (k$)']\n",
        "y=df.drop(columns=['Annual Income (k$)'],axis=1)"
      ]
    },
    {
      "cell_type": "code",
      "execution_count": null,
      "metadata": {
        "colab": {
          "base_uri": "https://localhost:8080/"
        },
        "id": "odSeAGmfcAEP",
        "outputId": "9a49a777-2d78-4313-fbbd-09067c1fdf68"
      },
      "outputs": [
        {
          "output_type": "execute_result",
          "data": {
            "text/plain": [
              "0    15\n",
              "1    15\n",
              "2    16\n",
              "3    16\n",
              "4    17\n",
              "Name: Annual Income (k$), dtype: int64"
            ]
          },
          "metadata": {},
          "execution_count": 50
        }
      ],
      "source": [
        "x.head()"
      ]
    },
    {
      "cell_type": "code",
      "execution_count": null,
      "metadata": {
        "colab": {
          "base_uri": "https://localhost:8080/",
          "height": 206
        },
        "id": "Jn6oRmWfcAOw",
        "outputId": "97696a2c-1ca9-436f-b232-762bd15e1d4e"
      },
      "outputs": [
        {
          "output_type": "execute_result",
          "data": {
            "text/plain": [
              "   CustomerID  Gender  Age  Spending Score (1-100)\n",
              "0           1    Male   19                      30\n",
              "1           2    Male   21                      67\n",
              "2           3  Female   20                       4\n",
              "3           4  Female   23                      64\n",
              "4           5  Female   31                      31"
            ],
            "text/html": [
              "\n",
              "  <div id=\"df-d79bdb7d-9ade-4406-bc87-2331962bd68c\">\n",
              "    <div class=\"colab-df-container\">\n",
              "      <div>\n",
              "<style scoped>\n",
              "    .dataframe tbody tr th:only-of-type {\n",
              "        vertical-align: middle;\n",
              "    }\n",
              "\n",
              "    .dataframe tbody tr th {\n",
              "        vertical-align: top;\n",
              "    }\n",
              "\n",
              "    .dataframe thead th {\n",
              "        text-align: right;\n",
              "    }\n",
              "</style>\n",
              "<table border=\"1\" class=\"dataframe\">\n",
              "  <thead>\n",
              "    <tr style=\"text-align: right;\">\n",
              "      <th></th>\n",
              "      <th>CustomerID</th>\n",
              "      <th>Gender</th>\n",
              "      <th>Age</th>\n",
              "      <th>Spending Score (1-100)</th>\n",
              "    </tr>\n",
              "  </thead>\n",
              "  <tbody>\n",
              "    <tr>\n",
              "      <th>0</th>\n",
              "      <td>1</td>\n",
              "      <td>Male</td>\n",
              "      <td>19</td>\n",
              "      <td>30</td>\n",
              "    </tr>\n",
              "    <tr>\n",
              "      <th>1</th>\n",
              "      <td>2</td>\n",
              "      <td>Male</td>\n",
              "      <td>21</td>\n",
              "      <td>67</td>\n",
              "    </tr>\n",
              "    <tr>\n",
              "      <th>2</th>\n",
              "      <td>3</td>\n",
              "      <td>Female</td>\n",
              "      <td>20</td>\n",
              "      <td>4</td>\n",
              "    </tr>\n",
              "    <tr>\n",
              "      <th>3</th>\n",
              "      <td>4</td>\n",
              "      <td>Female</td>\n",
              "      <td>23</td>\n",
              "      <td>64</td>\n",
              "    </tr>\n",
              "    <tr>\n",
              "      <th>4</th>\n",
              "      <td>5</td>\n",
              "      <td>Female</td>\n",
              "      <td>31</td>\n",
              "      <td>31</td>\n",
              "    </tr>\n",
              "  </tbody>\n",
              "</table>\n",
              "</div>\n",
              "      <button class=\"colab-df-convert\" onclick=\"convertToInteractive('df-d79bdb7d-9ade-4406-bc87-2331962bd68c')\"\n",
              "              title=\"Convert this dataframe to an interactive table.\"\n",
              "              style=\"display:none;\">\n",
              "        \n",
              "  <svg xmlns=\"http://www.w3.org/2000/svg\" height=\"24px\"viewBox=\"0 0 24 24\"\n",
              "       width=\"24px\">\n",
              "    <path d=\"M0 0h24v24H0V0z\" fill=\"none\"/>\n",
              "    <path d=\"M18.56 5.44l.94 2.06.94-2.06 2.06-.94-2.06-.94-.94-2.06-.94 2.06-2.06.94zm-11 1L8.5 8.5l.94-2.06 2.06-.94-2.06-.94L8.5 2.5l-.94 2.06-2.06.94zm10 10l.94 2.06.94-2.06 2.06-.94-2.06-.94-.94-2.06-.94 2.06-2.06.94z\"/><path d=\"M17.41 7.96l-1.37-1.37c-.4-.4-.92-.59-1.43-.59-.52 0-1.04.2-1.43.59L10.3 9.45l-7.72 7.72c-.78.78-.78 2.05 0 2.83L4 21.41c.39.39.9.59 1.41.59.51 0 1.02-.2 1.41-.59l7.78-7.78 2.81-2.81c.8-.78.8-2.07 0-2.86zM5.41 20L4 18.59l7.72-7.72 1.47 1.35L5.41 20z\"/>\n",
              "  </svg>\n",
              "      </button>\n",
              "      \n",
              "  <style>\n",
              "    .colab-df-container {\n",
              "      display:flex;\n",
              "      flex-wrap:wrap;\n",
              "      gap: 12px;\n",
              "    }\n",
              "\n",
              "    .colab-df-convert {\n",
              "      background-color: #E8F0FE;\n",
              "      border: none;\n",
              "      border-radius: 50%;\n",
              "      cursor: pointer;\n",
              "      display: none;\n",
              "      fill: #1967D2;\n",
              "      height: 32px;\n",
              "      padding: 0 0 0 0;\n",
              "      width: 32px;\n",
              "    }\n",
              "\n",
              "    .colab-df-convert:hover {\n",
              "      background-color: #E2EBFA;\n",
              "      box-shadow: 0px 1px 2px rgba(60, 64, 67, 0.3), 0px 1px 3px 1px rgba(60, 64, 67, 0.15);\n",
              "      fill: #174EA6;\n",
              "    }\n",
              "\n",
              "    [theme=dark] .colab-df-convert {\n",
              "      background-color: #3B4455;\n",
              "      fill: #D2E3FC;\n",
              "    }\n",
              "\n",
              "    [theme=dark] .colab-df-convert:hover {\n",
              "      background-color: #434B5C;\n",
              "      box-shadow: 0px 1px 3px 1px rgba(0, 0, 0, 0.15);\n",
              "      filter: drop-shadow(0px 1px 2px rgba(0, 0, 0, 0.3));\n",
              "      fill: #FFFFFF;\n",
              "    }\n",
              "  </style>\n",
              "\n",
              "      <script>\n",
              "        const buttonEl =\n",
              "          document.querySelector('#df-d79bdb7d-9ade-4406-bc87-2331962bd68c button.colab-df-convert');\n",
              "        buttonEl.style.display =\n",
              "          google.colab.kernel.accessAllowed ? 'block' : 'none';\n",
              "\n",
              "        async function convertToInteractive(key) {\n",
              "          const element = document.querySelector('#df-d79bdb7d-9ade-4406-bc87-2331962bd68c');\n",
              "          const dataTable =\n",
              "            await google.colab.kernel.invokeFunction('convertToInteractive',\n",
              "                                                     [key], {});\n",
              "          if (!dataTable) return;\n",
              "\n",
              "          const docLinkHtml = 'Like what you see? Visit the ' +\n",
              "            '<a target=\"_blank\" href=https://colab.research.google.com/notebooks/data_table.ipynb>data table notebook</a>'\n",
              "            + ' to learn more about interactive tables.';\n",
              "          element.innerHTML = '';\n",
              "          dataTable['output_type'] = 'display_data';\n",
              "          await google.colab.output.renderOutput(dataTable, element);\n",
              "          const docLink = document.createElement('div');\n",
              "          docLink.innerHTML = docLinkHtml;\n",
              "          element.appendChild(docLink);\n",
              "        }\n",
              "      </script>\n",
              "    </div>\n",
              "  </div>\n",
              "  "
            ]
          },
          "metadata": {},
          "execution_count": 51
        }
      ],
      "source": [
        "y.head()"
      ]
    },
    {
      "cell_type": "code",
      "execution_count": null,
      "metadata": {
        "colab": {
          "base_uri": "https://localhost:8080/"
        },
        "id": "dIKTB3amcAaY",
        "outputId": "beafc194-68dd-44fa-ac23-22bbd8612706"
      },
      "outputs": [
        {
          "output_type": "execute_result",
          "data": {
            "text/plain": [
              "array([-1.73899919, -1.73899919, -1.70082976, -1.70082976, -1.66266033,\n",
              "       -1.66266033, -1.62449091, -1.62449091, -1.58632148, -1.58632148,\n",
              "       -1.58632148, -1.58632148, -1.54815205, -1.54815205, -1.54815205,\n",
              "       -1.54815205, -1.50998262, -1.50998262, -1.43364376, -1.43364376,\n",
              "       -1.39547433, -1.39547433, -1.3573049 , -1.3573049 , -1.24279661,\n",
              "       -1.24279661, -1.24279661, -1.24279661, -1.20462718, -1.20462718,\n",
              "       -1.16645776, -1.16645776, -1.05194947, -1.05194947, -1.05194947,\n",
              "       -1.05194947, -1.01378004, -1.01378004, -0.89927175, -0.89927175,\n",
              "       -0.86110232, -0.86110232, -0.82293289, -0.82293289, -0.82293289,\n",
              "       -0.82293289, -0.78476346, -0.78476346, -0.78476346, -0.78476346,\n",
              "       -0.70842461, -0.70842461, -0.67025518, -0.67025518, -0.67025518,\n",
              "       -0.67025518, -0.63208575, -0.63208575, -0.55574689, -0.55574689,\n",
              "       -0.55574689, -0.55574689, -0.51757746, -0.51757746, -0.47940803,\n",
              "       -0.47940803, -0.47940803, -0.47940803, -0.47940803, -0.47940803,\n",
              "       -0.4412386 , -0.4412386 , -0.40306917, -0.40306917, -0.25039146,\n",
              "       -0.25039146, -0.25039146, -0.25039146, -0.25039146, -0.25039146,\n",
              "       -0.25039146, -0.25039146, -0.25039146, -0.25039146, -0.25039146,\n",
              "       -0.25039146, -0.13588317, -0.13588317, -0.09771374, -0.09771374,\n",
              "       -0.05954431, -0.05954431, -0.02137488, -0.02137488, -0.02137488,\n",
              "       -0.02137488, -0.02137488, -0.02137488,  0.01679455,  0.01679455,\n",
              "        0.05496398,  0.05496398,  0.05496398,  0.05496398,  0.05496398,\n",
              "        0.05496398,  0.09313341,  0.09313341,  0.09313341,  0.09313341,\n",
              "        0.09313341,  0.09313341,  0.13130284,  0.13130284,  0.16947227,\n",
              "        0.16947227,  0.16947227,  0.16947227,  0.24581112,  0.24581112,\n",
              "        0.24581112,  0.24581112,  0.32214998,  0.32214998,  0.36031941,\n",
              "        0.36031941,  0.39848884,  0.39848884,  0.39848884,  0.39848884,\n",
              "        0.39848884,  0.39848884,  0.43665827,  0.43665827,  0.4748277 ,\n",
              "        0.4748277 ,  0.4748277 ,  0.4748277 ,  0.51299713,  0.51299713,\n",
              "        0.55116656,  0.55116656,  0.58933599,  0.58933599,  0.62750542,\n",
              "        0.62750542,  0.62750542,  0.62750542,  0.66567484,  0.66567484,\n",
              "        0.66567484,  0.66567484,  0.66567484,  0.66567484,  0.66567484,\n",
              "        0.66567484,  0.66567484,  0.66567484,  0.66567484,  0.66567484,\n",
              "        0.70384427,  0.70384427,  0.78018313,  0.78018313,  0.93286085,\n",
              "        0.93286085,  0.97103028,  0.97103028,  1.00919971,  1.00919971,\n",
              "        1.00919971,  1.00919971,  1.00919971,  1.00919971,  1.04736914,\n",
              "        1.04736914,  1.04736914,  1.04736914,  1.23821628,  1.23821628,\n",
              "        1.390894  ,  1.390894  ,  1.42906343,  1.42906343,  1.46723286,\n",
              "        1.46723286,  1.54357172,  1.54357172,  1.61991057,  1.61991057,\n",
              "        1.61991057,  1.61991057,  2.00160487,  2.00160487,  2.26879087,\n",
              "        2.26879087,  2.49780745,  2.49780745,  2.91767117,  2.91767117])"
            ]
          },
          "metadata": {},
          "execution_count": 52
        }
      ],
      "source": [
        "x=scale(x)\n",
        "x"
      ]
    },
    {
      "cell_type": "code",
      "execution_count": null,
      "metadata": {
        "id": "G8GS2PeJcAi5"
      },
      "outputs": [],
      "source": [
        "# split the data into trainig and testing"
      ]
    },
    {
      "cell_type": "code",
      "execution_count": null,
      "metadata": {
        "id": "1cgDhb5xcAp1"
      },
      "outputs": [],
      "source": [
        "from sklearn.model_selection import train_test_split\n",
        "x_train,x_test,y_train,y_test=train_test_split(x,y,test_size=0.2)"
      ]
    },
    {
      "cell_type": "code",
      "execution_count": null,
      "metadata": {
        "colab": {
          "base_uri": "https://localhost:8080/"
        },
        "id": "ZvSu8q_XcAxC",
        "outputId": "2674ab79-2006-472d-f2c0-20e90c913224"
      },
      "outputs": [
        {
          "output_type": "execute_result",
          "data": {
            "text/plain": [
              "array([ 0.66567484,  1.390894  ,  0.36031941, -0.02137488,  0.93286085,\n",
              "        0.78018313,  0.97103028, -1.3573049 , -1.24279661,  0.78018313,\n",
              "       -1.62449091,  1.04736914,  1.54357172,  0.70384427,  0.09313341,\n",
              "        0.09313341, -0.86110232,  0.55116656,  1.42906343, -0.02137488,\n",
              "       -1.20462718, -1.70082976, -1.01378004, -0.25039146,  0.16947227,\n",
              "        1.00919971,  0.4748277 ,  0.01679455, -1.66266033, -1.16645776,\n",
              "       -0.05954431,  1.61991057, -0.05954431, -1.43364376,  2.91767117,\n",
              "        0.55116656, -0.70842461, -0.25039146,  0.39848884,  0.39848884,\n",
              "       -0.55574689, -1.05194947, -1.3573049 ,  0.62750542, -0.47940803,\n",
              "        1.04736914, -0.67025518,  0.66567484,  0.39848884,  1.61991057,\n",
              "       -0.86110232, -0.55574689,  0.24581112,  0.32214998, -0.47940803,\n",
              "        0.05496398, -0.67025518, -1.50998262,  0.13130284, -1.54815205,\n",
              "       -0.4412386 ,  1.23821628,  0.4748277 , -0.67025518,  0.05496398,\n",
              "        0.66567484,  0.58933599,  0.66567484, -0.47940803,  0.51299713,\n",
              "        0.36031941,  0.66567484, -0.89927175, -0.25039146, -0.78476346,\n",
              "        1.46723286, -1.62449091, -1.20462718, -0.82293289,  1.04736914,\n",
              "       -1.58632148,  0.43665827, -1.58632148,  1.61991057,  0.62750542,\n",
              "        0.58933599,  0.39848884,  0.66567484,  0.93286085,  2.00160487,\n",
              "        0.51299713, -0.13588317,  0.05496398,  0.62750542, -0.40306917,\n",
              "       -0.4412386 , -0.25039146,  0.66567484, -1.05194947, -1.24279661,\n",
              "        0.16947227,  0.24581112,  1.04736914, -0.25039146, -0.25039146,\n",
              "       -0.02137488, -1.70082976,  0.05496398,  0.09313341,  0.66567484,\n",
              "        0.4748277 , -1.05194947, -0.47940803, -0.13588317, -0.51757746,\n",
              "       -0.63208575, -0.55574689,  1.54357172,  2.00160487, -0.82293289,\n",
              "       -0.70842461,  2.49780745,  1.00919971,  0.05496398,  0.66567484,\n",
              "       -0.55574689, -0.82293289,  0.24581112,  1.00919971,  0.4748277 ,\n",
              "        0.24581112,  2.26879087, -1.16645776, -1.58632148,  0.39848884,\n",
              "       -1.39547433, -1.39547433,  2.26879087,  0.01679455, -0.02137488,\n",
              "        0.39848884, -0.78476346, -0.09771374,  0.16947227,  1.46723286,\n",
              "       -0.51757746,  2.49780745,  1.00919971,  0.70384427, -1.54815205,\n",
              "       -0.25039146, -1.50998262, -1.01378004,  0.97103028,  0.66567484,\n",
              "        1.00919971, -0.25039146, -0.25039146, -0.78476346, -1.73899919])"
            ]
          },
          "metadata": {},
          "execution_count": 54
        }
      ],
      "source": [
        "x_train"
      ]
    },
    {
      "cell_type": "code",
      "execution_count": null,
      "metadata": {
        "colab": {
          "base_uri": "https://localhost:8080/"
        },
        "id": "cZX8SbF-hSCQ",
        "outputId": "72b4078f-4f60-4afd-c455-ab0c30368563"
      },
      "outputs": [
        {
          "output_type": "execute_result",
          "data": {
            "text/plain": [
              "(160,)"
            ]
          },
          "metadata": {},
          "execution_count": 55
        }
      ],
      "source": [
        "x_train.shape"
      ]
    },
    {
      "cell_type": "code",
      "execution_count": null,
      "metadata": {
        "colab": {
          "base_uri": "https://localhost:8080/"
        },
        "id": "o-4bWs1YcA60",
        "outputId": "f3376eae-32ec-49f3-eee6-42d10203d61f"
      },
      "outputs": [
        {
          "output_type": "execute_result",
          "data": {
            "text/plain": [
              "array([ 0.66567484,  2.91767117, -1.05194947, -0.89927175, -1.54815205,\n",
              "        0.43665827,  1.390894  ,  0.05496398, -1.24279661,  0.13130284,\n",
              "        1.42906343,  1.23821628,  0.62750542, -0.82293289, -0.47940803,\n",
              "       -0.25039146,  0.09313341, -1.43364376, -0.02137488,  0.09313341,\n",
              "        1.00919971, -0.09771374, -1.73899919, -0.02137488, -1.24279661,\n",
              "       -1.66266033,  0.66567484, -0.25039146, -0.67025518, -1.54815205,\n",
              "       -0.78476346, -0.63208575,  0.32214998, -0.40306917, -1.58632148,\n",
              "       -0.25039146,  0.09313341,  0.16947227,  1.61991057, -0.47940803])"
            ]
          },
          "metadata": {},
          "execution_count": 56
        }
      ],
      "source": [
        "x_test"
      ]
    },
    {
      "cell_type": "code",
      "execution_count": null,
      "metadata": {
        "colab": {
          "base_uri": "https://localhost:8080/"
        },
        "id": "_yRlmuIrheq1",
        "outputId": "6435d4bd-7dae-4ead-e59a-0859813aab74"
      },
      "outputs": [
        {
          "output_type": "execute_result",
          "data": {
            "text/plain": [
              "(40,)"
            ]
          },
          "metadata": {},
          "execution_count": 57
        }
      ],
      "source": [
        "x_test.shape"
      ]
    },
    {
      "cell_type": "code",
      "execution_count": null,
      "metadata": {
        "colab": {
          "base_uri": "https://localhost:8080/",
          "height": 424
        },
        "id": "01TojdyYcBDg",
        "outputId": "5ee5c485-48c0-400f-ee12-e3cf45ecdc33"
      },
      "outputs": [
        {
          "output_type": "execute_result",
          "data": {
            "text/plain": [
              "     CustomerID  Gender  Age  Spending Score (1-100)\n",
              "151         152    Male   39                      73\n",
              "180         181  Female   37                      26\n",
              "125         126  Female   31                      64\n",
              "95           96    Male   24                      43\n",
              "164         165    Male   50                      21\n",
              "..          ...     ...  ...                     ...\n",
              "169         170    Male   32                      53\n",
              "78           79  Female   23                      43\n",
              "85           86    Male   48                      37\n",
              "49           50  Female   31                      33\n",
              "1             2    Male   21                      67\n",
              "\n",
              "[160 rows x 4 columns]"
            ],
            "text/html": [
              "\n",
              "  <div id=\"df-b5b66d11-c2cb-4e4f-b6db-43ca0bbd3d80\">\n",
              "    <div class=\"colab-df-container\">\n",
              "      <div>\n",
              "<style scoped>\n",
              "    .dataframe tbody tr th:only-of-type {\n",
              "        vertical-align: middle;\n",
              "    }\n",
              "\n",
              "    .dataframe tbody tr th {\n",
              "        vertical-align: top;\n",
              "    }\n",
              "\n",
              "    .dataframe thead th {\n",
              "        text-align: right;\n",
              "    }\n",
              "</style>\n",
              "<table border=\"1\" class=\"dataframe\">\n",
              "  <thead>\n",
              "    <tr style=\"text-align: right;\">\n",
              "      <th></th>\n",
              "      <th>CustomerID</th>\n",
              "      <th>Gender</th>\n",
              "      <th>Age</th>\n",
              "      <th>Spending Score (1-100)</th>\n",
              "    </tr>\n",
              "  </thead>\n",
              "  <tbody>\n",
              "    <tr>\n",
              "      <th>151</th>\n",
              "      <td>152</td>\n",
              "      <td>Male</td>\n",
              "      <td>39</td>\n",
              "      <td>73</td>\n",
              "    </tr>\n",
              "    <tr>\n",
              "      <th>180</th>\n",
              "      <td>181</td>\n",
              "      <td>Female</td>\n",
              "      <td>37</td>\n",
              "      <td>26</td>\n",
              "    </tr>\n",
              "    <tr>\n",
              "      <th>125</th>\n",
              "      <td>126</td>\n",
              "      <td>Female</td>\n",
              "      <td>31</td>\n",
              "      <td>64</td>\n",
              "    </tr>\n",
              "    <tr>\n",
              "      <th>95</th>\n",
              "      <td>96</td>\n",
              "      <td>Male</td>\n",
              "      <td>24</td>\n",
              "      <td>43</td>\n",
              "    </tr>\n",
              "    <tr>\n",
              "      <th>164</th>\n",
              "      <td>165</td>\n",
              "      <td>Male</td>\n",
              "      <td>50</td>\n",
              "      <td>21</td>\n",
              "    </tr>\n",
              "    <tr>\n",
              "      <th>...</th>\n",
              "      <td>...</td>\n",
              "      <td>...</td>\n",
              "      <td>...</td>\n",
              "      <td>...</td>\n",
              "    </tr>\n",
              "    <tr>\n",
              "      <th>169</th>\n",
              "      <td>170</td>\n",
              "      <td>Male</td>\n",
              "      <td>32</td>\n",
              "      <td>53</td>\n",
              "    </tr>\n",
              "    <tr>\n",
              "      <th>78</th>\n",
              "      <td>79</td>\n",
              "      <td>Female</td>\n",
              "      <td>23</td>\n",
              "      <td>43</td>\n",
              "    </tr>\n",
              "    <tr>\n",
              "      <th>85</th>\n",
              "      <td>86</td>\n",
              "      <td>Male</td>\n",
              "      <td>48</td>\n",
              "      <td>37</td>\n",
              "    </tr>\n",
              "    <tr>\n",
              "      <th>49</th>\n",
              "      <td>50</td>\n",
              "      <td>Female</td>\n",
              "      <td>31</td>\n",
              "      <td>33</td>\n",
              "    </tr>\n",
              "    <tr>\n",
              "      <th>1</th>\n",
              "      <td>2</td>\n",
              "      <td>Male</td>\n",
              "      <td>21</td>\n",
              "      <td>67</td>\n",
              "    </tr>\n",
              "  </tbody>\n",
              "</table>\n",
              "<p>160 rows × 4 columns</p>\n",
              "</div>\n",
              "      <button class=\"colab-df-convert\" onclick=\"convertToInteractive('df-b5b66d11-c2cb-4e4f-b6db-43ca0bbd3d80')\"\n",
              "              title=\"Convert this dataframe to an interactive table.\"\n",
              "              style=\"display:none;\">\n",
              "        \n",
              "  <svg xmlns=\"http://www.w3.org/2000/svg\" height=\"24px\"viewBox=\"0 0 24 24\"\n",
              "       width=\"24px\">\n",
              "    <path d=\"M0 0h24v24H0V0z\" fill=\"none\"/>\n",
              "    <path d=\"M18.56 5.44l.94 2.06.94-2.06 2.06-.94-2.06-.94-.94-2.06-.94 2.06-2.06.94zm-11 1L8.5 8.5l.94-2.06 2.06-.94-2.06-.94L8.5 2.5l-.94 2.06-2.06.94zm10 10l.94 2.06.94-2.06 2.06-.94-2.06-.94-.94-2.06-.94 2.06-2.06.94z\"/><path d=\"M17.41 7.96l-1.37-1.37c-.4-.4-.92-.59-1.43-.59-.52 0-1.04.2-1.43.59L10.3 9.45l-7.72 7.72c-.78.78-.78 2.05 0 2.83L4 21.41c.39.39.9.59 1.41.59.51 0 1.02-.2 1.41-.59l7.78-7.78 2.81-2.81c.8-.78.8-2.07 0-2.86zM5.41 20L4 18.59l7.72-7.72 1.47 1.35L5.41 20z\"/>\n",
              "  </svg>\n",
              "      </button>\n",
              "      \n",
              "  <style>\n",
              "    .colab-df-container {\n",
              "      display:flex;\n",
              "      flex-wrap:wrap;\n",
              "      gap: 12px;\n",
              "    }\n",
              "\n",
              "    .colab-df-convert {\n",
              "      background-color: #E8F0FE;\n",
              "      border: none;\n",
              "      border-radius: 50%;\n",
              "      cursor: pointer;\n",
              "      display: none;\n",
              "      fill: #1967D2;\n",
              "      height: 32px;\n",
              "      padding: 0 0 0 0;\n",
              "      width: 32px;\n",
              "    }\n",
              "\n",
              "    .colab-df-convert:hover {\n",
              "      background-color: #E2EBFA;\n",
              "      box-shadow: 0px 1px 2px rgba(60, 64, 67, 0.3), 0px 1px 3px 1px rgba(60, 64, 67, 0.15);\n",
              "      fill: #174EA6;\n",
              "    }\n",
              "\n",
              "    [theme=dark] .colab-df-convert {\n",
              "      background-color: #3B4455;\n",
              "      fill: #D2E3FC;\n",
              "    }\n",
              "\n",
              "    [theme=dark] .colab-df-convert:hover {\n",
              "      background-color: #434B5C;\n",
              "      box-shadow: 0px 1px 3px 1px rgba(0, 0, 0, 0.15);\n",
              "      filter: drop-shadow(0px 1px 2px rgba(0, 0, 0, 0.3));\n",
              "      fill: #FFFFFF;\n",
              "    }\n",
              "  </style>\n",
              "\n",
              "      <script>\n",
              "        const buttonEl =\n",
              "          document.querySelector('#df-b5b66d11-c2cb-4e4f-b6db-43ca0bbd3d80 button.colab-df-convert');\n",
              "        buttonEl.style.display =\n",
              "          google.colab.kernel.accessAllowed ? 'block' : 'none';\n",
              "\n",
              "        async function convertToInteractive(key) {\n",
              "          const element = document.querySelector('#df-b5b66d11-c2cb-4e4f-b6db-43ca0bbd3d80');\n",
              "          const dataTable =\n",
              "            await google.colab.kernel.invokeFunction('convertToInteractive',\n",
              "                                                     [key], {});\n",
              "          if (!dataTable) return;\n",
              "\n",
              "          const docLinkHtml = 'Like what you see? Visit the ' +\n",
              "            '<a target=\"_blank\" href=https://colab.research.google.com/notebooks/data_table.ipynb>data table notebook</a>'\n",
              "            + ' to learn more about interactive tables.';\n",
              "          element.innerHTML = '';\n",
              "          dataTable['output_type'] = 'display_data';\n",
              "          await google.colab.output.renderOutput(dataTable, element);\n",
              "          const docLink = document.createElement('div');\n",
              "          docLink.innerHTML = docLinkHtml;\n",
              "          element.appendChild(docLink);\n",
              "        }\n",
              "      </script>\n",
              "    </div>\n",
              "  </div>\n",
              "  "
            ]
          },
          "metadata": {},
          "execution_count": 58
        }
      ],
      "source": [
        "y_train"
      ]
    },
    {
      "cell_type": "code",
      "execution_count": null,
      "metadata": {
        "colab": {
          "base_uri": "https://localhost:8080/"
        },
        "id": "evvUpZSXhlwo",
        "outputId": "febe8b91-a27e-454d-a425-a2c373501174"
      },
      "outputs": [
        {
          "output_type": "execute_result",
          "data": {
            "text/plain": [
              "(160, 4)"
            ]
          },
          "metadata": {},
          "execution_count": 59
        }
      ],
      "source": [
        "y_train.shape"
      ]
    },
    {
      "cell_type": "code",
      "execution_count": null,
      "metadata": {
        "colab": {
          "base_uri": "https://localhost:8080/",
          "height": 1000
        },
        "id": "aKpJg-8FcBRB",
        "outputId": "a63e0ea6-a266-4ad2-abbe-11ce44e7b1a5"
      },
      "outputs": [
        {
          "output_type": "execute_result",
          "data": {
            "text/plain": [
              "     CustomerID  Gender  Age  Spending Score (1-100)\n",
              "153         154  Female   38                      63\n",
              "198         199    Male   32                      16\n",
              "32           33    Male   53                       2\n",
              "39           40  Female   20                      62\n",
              "15           16    Male   22                      66\n",
              "132         133  Female   25                      27\n",
              "181         182  Female   32                      71\n",
              "101         102  Female   49                      39\n",
              "25           26    Male   29                      68\n",
              "112         113  Female   38                      33\n",
              "182         183    Male   46                      13\n",
              "179         180    Male   35                      75\n",
              "147         148  Female   32                      61\n",
              "43           44  Female   31                      52\n",
              "68           69    Male   19                      50\n",
              "80           81    Male   57                      42\n",
              "107         108    Male   54                      37\n",
              "18           19    Male   52                      24\n",
              "93           94  Female   40                      31\n",
              "106         107  Female   66                      41\n",
              "173         174    Male   36                      77\n",
              "88           89  Female   34                      51\n",
              "0             1    Male   19                      30\n",
              "92           93    Male   48                      40\n",
              "27           28    Male   35                      52\n",
              "4             5  Female   31                      31\n",
              "159         160  Female   30                      60\n",
              "76           77  Female   45                      44\n",
              "54           55  Female   50                      36\n",
              "13           14  Female   24                      64\n",
              "47           48  Female   27                      38\n",
              "56           57  Female   51                      41\n",
              "123         124    Male   39                      76\n",
              "72           73  Female   60                      40\n",
              "9            10  Female   30                      59\n",
              "74           75    Male   59                      38\n",
              "109         110    Male   66                      39\n",
              "114         115  Female   18                      39\n",
              "189         190  Female   36                      70\n",
              "64           65    Male   63                      42"
            ],
            "text/html": [
              "\n",
              "  <div id=\"df-5a1de7ec-20c3-4593-8926-92810f5a2eea\">\n",
              "    <div class=\"colab-df-container\">\n",
              "      <div>\n",
              "<style scoped>\n",
              "    .dataframe tbody tr th:only-of-type {\n",
              "        vertical-align: middle;\n",
              "    }\n",
              "\n",
              "    .dataframe tbody tr th {\n",
              "        vertical-align: top;\n",
              "    }\n",
              "\n",
              "    .dataframe thead th {\n",
              "        text-align: right;\n",
              "    }\n",
              "</style>\n",
              "<table border=\"1\" class=\"dataframe\">\n",
              "  <thead>\n",
              "    <tr style=\"text-align: right;\">\n",
              "      <th></th>\n",
              "      <th>CustomerID</th>\n",
              "      <th>Gender</th>\n",
              "      <th>Age</th>\n",
              "      <th>Spending Score (1-100)</th>\n",
              "    </tr>\n",
              "  </thead>\n",
              "  <tbody>\n",
              "    <tr>\n",
              "      <th>153</th>\n",
              "      <td>154</td>\n",
              "      <td>Female</td>\n",
              "      <td>38</td>\n",
              "      <td>63</td>\n",
              "    </tr>\n",
              "    <tr>\n",
              "      <th>198</th>\n",
              "      <td>199</td>\n",
              "      <td>Male</td>\n",
              "      <td>32</td>\n",
              "      <td>16</td>\n",
              "    </tr>\n",
              "    <tr>\n",
              "      <th>32</th>\n",
              "      <td>33</td>\n",
              "      <td>Male</td>\n",
              "      <td>53</td>\n",
              "      <td>2</td>\n",
              "    </tr>\n",
              "    <tr>\n",
              "      <th>39</th>\n",
              "      <td>40</td>\n",
              "      <td>Female</td>\n",
              "      <td>20</td>\n",
              "      <td>62</td>\n",
              "    </tr>\n",
              "    <tr>\n",
              "      <th>15</th>\n",
              "      <td>16</td>\n",
              "      <td>Male</td>\n",
              "      <td>22</td>\n",
              "      <td>66</td>\n",
              "    </tr>\n",
              "    <tr>\n",
              "      <th>132</th>\n",
              "      <td>133</td>\n",
              "      <td>Female</td>\n",
              "      <td>25</td>\n",
              "      <td>27</td>\n",
              "    </tr>\n",
              "    <tr>\n",
              "      <th>181</th>\n",
              "      <td>182</td>\n",
              "      <td>Female</td>\n",
              "      <td>32</td>\n",
              "      <td>71</td>\n",
              "    </tr>\n",
              "    <tr>\n",
              "      <th>101</th>\n",
              "      <td>102</td>\n",
              "      <td>Female</td>\n",
              "      <td>49</td>\n",
              "      <td>39</td>\n",
              "    </tr>\n",
              "    <tr>\n",
              "      <th>25</th>\n",
              "      <td>26</td>\n",
              "      <td>Male</td>\n",
              "      <td>29</td>\n",
              "      <td>68</td>\n",
              "    </tr>\n",
              "    <tr>\n",
              "      <th>112</th>\n",
              "      <td>113</td>\n",
              "      <td>Female</td>\n",
              "      <td>38</td>\n",
              "      <td>33</td>\n",
              "    </tr>\n",
              "    <tr>\n",
              "      <th>182</th>\n",
              "      <td>183</td>\n",
              "      <td>Male</td>\n",
              "      <td>46</td>\n",
              "      <td>13</td>\n",
              "    </tr>\n",
              "    <tr>\n",
              "      <th>179</th>\n",
              "      <td>180</td>\n",
              "      <td>Male</td>\n",
              "      <td>35</td>\n",
              "      <td>75</td>\n",
              "    </tr>\n",
              "    <tr>\n",
              "      <th>147</th>\n",
              "      <td>148</td>\n",
              "      <td>Female</td>\n",
              "      <td>32</td>\n",
              "      <td>61</td>\n",
              "    </tr>\n",
              "    <tr>\n",
              "      <th>43</th>\n",
              "      <td>44</td>\n",
              "      <td>Female</td>\n",
              "      <td>31</td>\n",
              "      <td>52</td>\n",
              "    </tr>\n",
              "    <tr>\n",
              "      <th>68</th>\n",
              "      <td>69</td>\n",
              "      <td>Male</td>\n",
              "      <td>19</td>\n",
              "      <td>50</td>\n",
              "    </tr>\n",
              "    <tr>\n",
              "      <th>80</th>\n",
              "      <td>81</td>\n",
              "      <td>Male</td>\n",
              "      <td>57</td>\n",
              "      <td>42</td>\n",
              "    </tr>\n",
              "    <tr>\n",
              "      <th>107</th>\n",
              "      <td>108</td>\n",
              "      <td>Male</td>\n",
              "      <td>54</td>\n",
              "      <td>37</td>\n",
              "    </tr>\n",
              "    <tr>\n",
              "      <th>18</th>\n",
              "      <td>19</td>\n",
              "      <td>Male</td>\n",
              "      <td>52</td>\n",
              "      <td>24</td>\n",
              "    </tr>\n",
              "    <tr>\n",
              "      <th>93</th>\n",
              "      <td>94</td>\n",
              "      <td>Female</td>\n",
              "      <td>40</td>\n",
              "      <td>31</td>\n",
              "    </tr>\n",
              "    <tr>\n",
              "      <th>106</th>\n",
              "      <td>107</td>\n",
              "      <td>Female</td>\n",
              "      <td>66</td>\n",
              "      <td>41</td>\n",
              "    </tr>\n",
              "    <tr>\n",
              "      <th>173</th>\n",
              "      <td>174</td>\n",
              "      <td>Male</td>\n",
              "      <td>36</td>\n",
              "      <td>77</td>\n",
              "    </tr>\n",
              "    <tr>\n",
              "      <th>88</th>\n",
              "      <td>89</td>\n",
              "      <td>Female</td>\n",
              "      <td>34</td>\n",
              "      <td>51</td>\n",
              "    </tr>\n",
              "    <tr>\n",
              "      <th>0</th>\n",
              "      <td>1</td>\n",
              "      <td>Male</td>\n",
              "      <td>19</td>\n",
              "      <td>30</td>\n",
              "    </tr>\n",
              "    <tr>\n",
              "      <th>92</th>\n",
              "      <td>93</td>\n",
              "      <td>Male</td>\n",
              "      <td>48</td>\n",
              "      <td>40</td>\n",
              "    </tr>\n",
              "    <tr>\n",
              "      <th>27</th>\n",
              "      <td>28</td>\n",
              "      <td>Male</td>\n",
              "      <td>35</td>\n",
              "      <td>52</td>\n",
              "    </tr>\n",
              "    <tr>\n",
              "      <th>4</th>\n",
              "      <td>5</td>\n",
              "      <td>Female</td>\n",
              "      <td>31</td>\n",
              "      <td>31</td>\n",
              "    </tr>\n",
              "    <tr>\n",
              "      <th>159</th>\n",
              "      <td>160</td>\n",
              "      <td>Female</td>\n",
              "      <td>30</td>\n",
              "      <td>60</td>\n",
              "    </tr>\n",
              "    <tr>\n",
              "      <th>76</th>\n",
              "      <td>77</td>\n",
              "      <td>Female</td>\n",
              "      <td>45</td>\n",
              "      <td>44</td>\n",
              "    </tr>\n",
              "    <tr>\n",
              "      <th>54</th>\n",
              "      <td>55</td>\n",
              "      <td>Female</td>\n",
              "      <td>50</td>\n",
              "      <td>36</td>\n",
              "    </tr>\n",
              "    <tr>\n",
              "      <th>13</th>\n",
              "      <td>14</td>\n",
              "      <td>Female</td>\n",
              "      <td>24</td>\n",
              "      <td>64</td>\n",
              "    </tr>\n",
              "    <tr>\n",
              "      <th>47</th>\n",
              "      <td>48</td>\n",
              "      <td>Female</td>\n",
              "      <td>27</td>\n",
              "      <td>38</td>\n",
              "    </tr>\n",
              "    <tr>\n",
              "      <th>56</th>\n",
              "      <td>57</td>\n",
              "      <td>Female</td>\n",
              "      <td>51</td>\n",
              "      <td>41</td>\n",
              "    </tr>\n",
              "    <tr>\n",
              "      <th>123</th>\n",
              "      <td>124</td>\n",
              "      <td>Male</td>\n",
              "      <td>39</td>\n",
              "      <td>76</td>\n",
              "    </tr>\n",
              "    <tr>\n",
              "      <th>72</th>\n",
              "      <td>73</td>\n",
              "      <td>Female</td>\n",
              "      <td>60</td>\n",
              "      <td>40</td>\n",
              "    </tr>\n",
              "    <tr>\n",
              "      <th>9</th>\n",
              "      <td>10</td>\n",
              "      <td>Female</td>\n",
              "      <td>30</td>\n",
              "      <td>59</td>\n",
              "    </tr>\n",
              "    <tr>\n",
              "      <th>74</th>\n",
              "      <td>75</td>\n",
              "      <td>Male</td>\n",
              "      <td>59</td>\n",
              "      <td>38</td>\n",
              "    </tr>\n",
              "    <tr>\n",
              "      <th>109</th>\n",
              "      <td>110</td>\n",
              "      <td>Male</td>\n",
              "      <td>66</td>\n",
              "      <td>39</td>\n",
              "    </tr>\n",
              "    <tr>\n",
              "      <th>114</th>\n",
              "      <td>115</td>\n",
              "      <td>Female</td>\n",
              "      <td>18</td>\n",
              "      <td>39</td>\n",
              "    </tr>\n",
              "    <tr>\n",
              "      <th>189</th>\n",
              "      <td>190</td>\n",
              "      <td>Female</td>\n",
              "      <td>36</td>\n",
              "      <td>70</td>\n",
              "    </tr>\n",
              "    <tr>\n",
              "      <th>64</th>\n",
              "      <td>65</td>\n",
              "      <td>Male</td>\n",
              "      <td>63</td>\n",
              "      <td>42</td>\n",
              "    </tr>\n",
              "  </tbody>\n",
              "</table>\n",
              "</div>\n",
              "      <button class=\"colab-df-convert\" onclick=\"convertToInteractive('df-5a1de7ec-20c3-4593-8926-92810f5a2eea')\"\n",
              "              title=\"Convert this dataframe to an interactive table.\"\n",
              "              style=\"display:none;\">\n",
              "        \n",
              "  <svg xmlns=\"http://www.w3.org/2000/svg\" height=\"24px\"viewBox=\"0 0 24 24\"\n",
              "       width=\"24px\">\n",
              "    <path d=\"M0 0h24v24H0V0z\" fill=\"none\"/>\n",
              "    <path d=\"M18.56 5.44l.94 2.06.94-2.06 2.06-.94-2.06-.94-.94-2.06-.94 2.06-2.06.94zm-11 1L8.5 8.5l.94-2.06 2.06-.94-2.06-.94L8.5 2.5l-.94 2.06-2.06.94zm10 10l.94 2.06.94-2.06 2.06-.94-2.06-.94-.94-2.06-.94 2.06-2.06.94z\"/><path d=\"M17.41 7.96l-1.37-1.37c-.4-.4-.92-.59-1.43-.59-.52 0-1.04.2-1.43.59L10.3 9.45l-7.72 7.72c-.78.78-.78 2.05 0 2.83L4 21.41c.39.39.9.59 1.41.59.51 0 1.02-.2 1.41-.59l7.78-7.78 2.81-2.81c.8-.78.8-2.07 0-2.86zM5.41 20L4 18.59l7.72-7.72 1.47 1.35L5.41 20z\"/>\n",
              "  </svg>\n",
              "      </button>\n",
              "      \n",
              "  <style>\n",
              "    .colab-df-container {\n",
              "      display:flex;\n",
              "      flex-wrap:wrap;\n",
              "      gap: 12px;\n",
              "    }\n",
              "\n",
              "    .colab-df-convert {\n",
              "      background-color: #E8F0FE;\n",
              "      border: none;\n",
              "      border-radius: 50%;\n",
              "      cursor: pointer;\n",
              "      display: none;\n",
              "      fill: #1967D2;\n",
              "      height: 32px;\n",
              "      padding: 0 0 0 0;\n",
              "      width: 32px;\n",
              "    }\n",
              "\n",
              "    .colab-df-convert:hover {\n",
              "      background-color: #E2EBFA;\n",
              "      box-shadow: 0px 1px 2px rgba(60, 64, 67, 0.3), 0px 1px 3px 1px rgba(60, 64, 67, 0.15);\n",
              "      fill: #174EA6;\n",
              "    }\n",
              "\n",
              "    [theme=dark] .colab-df-convert {\n",
              "      background-color: #3B4455;\n",
              "      fill: #D2E3FC;\n",
              "    }\n",
              "\n",
              "    [theme=dark] .colab-df-convert:hover {\n",
              "      background-color: #434B5C;\n",
              "      box-shadow: 0px 1px 3px 1px rgba(0, 0, 0, 0.15);\n",
              "      filter: drop-shadow(0px 1px 2px rgba(0, 0, 0, 0.3));\n",
              "      fill: #FFFFFF;\n",
              "    }\n",
              "  </style>\n",
              "\n",
              "      <script>\n",
              "        const buttonEl =\n",
              "          document.querySelector('#df-5a1de7ec-20c3-4593-8926-92810f5a2eea button.colab-df-convert');\n",
              "        buttonEl.style.display =\n",
              "          google.colab.kernel.accessAllowed ? 'block' : 'none';\n",
              "\n",
              "        async function convertToInteractive(key) {\n",
              "          const element = document.querySelector('#df-5a1de7ec-20c3-4593-8926-92810f5a2eea');\n",
              "          const dataTable =\n",
              "            await google.colab.kernel.invokeFunction('convertToInteractive',\n",
              "                                                     [key], {});\n",
              "          if (!dataTable) return;\n",
              "\n",
              "          const docLinkHtml = 'Like what you see? Visit the ' +\n",
              "            '<a target=\"_blank\" href=https://colab.research.google.com/notebooks/data_table.ipynb>data table notebook</a>'\n",
              "            + ' to learn more about interactive tables.';\n",
              "          element.innerHTML = '';\n",
              "          dataTable['output_type'] = 'display_data';\n",
              "          await google.colab.output.renderOutput(dataTable, element);\n",
              "          const docLink = document.createElement('div');\n",
              "          docLink.innerHTML = docLinkHtml;\n",
              "          element.appendChild(docLink);\n",
              "        }\n",
              "      </script>\n",
              "    </div>\n",
              "  </div>\n",
              "  "
            ]
          },
          "metadata": {},
          "execution_count": 60
        }
      ],
      "source": [
        "y_test"
      ]
    },
    {
      "cell_type": "code",
      "execution_count": null,
      "metadata": {
        "colab": {
          "base_uri": "https://localhost:8080/"
        },
        "id": "CIHeyK72hv8O",
        "outputId": "0726894b-d4ef-4ab0-bdfb-85caf79d2f6c"
      },
      "outputs": [
        {
          "output_type": "execute_result",
          "data": {
            "text/plain": [
              "(40, 4)"
            ]
          },
          "metadata": {},
          "execution_count": 61
        }
      ],
      "source": [
        "y_test.shape"
      ]
    },
    {
      "cell_type": "code",
      "execution_count": null,
      "metadata": {
        "id": "o4-yWwfbyBeQ"
      },
      "outputs": [],
      "source": [
        "# build the model"
      ]
    },
    {
      "cell_type": "code",
      "source": [
        "from sklearn.linear_model import LinearRegression\n",
        "lin_reg=LinearRegression()"
      ],
      "metadata": {
        "id": "61uC_ZgsXn9w"
      },
      "execution_count": null,
      "outputs": []
    },
    {
      "cell_type": "code",
      "source": [
        "# train the model"
      ],
      "metadata": {
        "id": "S8YMry0nZWkp"
      },
      "execution_count": null,
      "outputs": []
    },
    {
      "cell_type": "code",
      "source": [
        "lin_reg.fit(x_train,y_train)"
      ],
      "metadata": {
        "colab": {
          "base_uri": "https://localhost:8080/"
        },
        "id": "CoTpndKbZutl",
        "outputId": "d3a6e197-3691-4b6f-c99a-c0851c0d1559"
      },
      "execution_count": null,
      "outputs": [
        {
          "output_type": "execute_result",
          "data": {
            "text/plain": [
              "LinearRegression()"
            ]
          },
          "metadata": {},
          "execution_count": 141
        }
      ]
    },
    {
      "cell_type": "code",
      "source": [
        "# test the model on prediction"
      ],
      "metadata": {
        "id": "eoHvjQhwZdEE"
      },
      "execution_count": null,
      "outputs": []
    },
    {
      "cell_type": "code",
      "source": [
        "lin_reg.predict(x)"
      ],
      "metadata": {
        "colab": {
          "base_uri": "https://localhost:8080/"
        },
        "id": "ci6gE_s2XurR",
        "outputId": "7cde1385-fcf0-4fbb-a8de-94f130efa5d8"
      },
      "execution_count": null,
      "outputs": [
        {
          "output_type": "execute_result",
          "data": {
            "text/plain": [
              "array([[-1.73899919],\n",
              "       [-1.73899919],\n",
              "       [-1.70082976],\n",
              "       [-1.70082976],\n",
              "       [-1.66266033],\n",
              "       [-1.66266033],\n",
              "       [-1.62449091],\n",
              "       [-1.62449091],\n",
              "       [-1.58632148],\n",
              "       [-1.58632148],\n",
              "       [-1.58632148],\n",
              "       [-1.58632148],\n",
              "       [-1.54815205],\n",
              "       [-1.54815205],\n",
              "       [-1.54815205],\n",
              "       [-1.54815205],\n",
              "       [-1.50998262],\n",
              "       [-1.50998262],\n",
              "       [-1.43364376],\n",
              "       [-1.43364376],\n",
              "       [-1.39547433],\n",
              "       [-1.39547433],\n",
              "       [-1.3573049 ],\n",
              "       [-1.3573049 ],\n",
              "       [-1.24279661],\n",
              "       [-1.24279661],\n",
              "       [-1.24279661],\n",
              "       [-1.24279661],\n",
              "       [-1.20462718],\n",
              "       [-1.20462718],\n",
              "       [-1.16645776],\n",
              "       [-1.16645776],\n",
              "       [-1.05194947],\n",
              "       [-1.05194947],\n",
              "       [-1.05194947],\n",
              "       [-1.05194947],\n",
              "       [-1.01378004],\n",
              "       [-1.01378004],\n",
              "       [-0.89927175],\n",
              "       [-0.89927175],\n",
              "       [-0.86110232],\n",
              "       [-0.86110232],\n",
              "       [-0.82293289],\n",
              "       [-0.82293289],\n",
              "       [-0.82293289],\n",
              "       [-0.82293289],\n",
              "       [-0.78476346],\n",
              "       [-0.78476346],\n",
              "       [-0.78476346],\n",
              "       [-0.78476346],\n",
              "       [-0.70842461],\n",
              "       [-0.70842461],\n",
              "       [-0.67025518],\n",
              "       [-0.67025518],\n",
              "       [-0.67025518],\n",
              "       [-0.67025518],\n",
              "       [-0.63208575],\n",
              "       [-0.63208575],\n",
              "       [-0.55574689],\n",
              "       [-0.55574689],\n",
              "       [-0.55574689],\n",
              "       [-0.55574689],\n",
              "       [-0.51757746],\n",
              "       [-0.51757746],\n",
              "       [-0.47940803],\n",
              "       [-0.47940803],\n",
              "       [-0.47940803],\n",
              "       [-0.47940803],\n",
              "       [-0.47940803],\n",
              "       [-0.47940803],\n",
              "       [-0.4412386 ],\n",
              "       [-0.4412386 ],\n",
              "       [-0.40306917],\n",
              "       [-0.40306917],\n",
              "       [-0.25039146],\n",
              "       [-0.25039146],\n",
              "       [-0.25039146],\n",
              "       [-0.25039146],\n",
              "       [-0.25039146],\n",
              "       [-0.25039146],\n",
              "       [-0.25039146],\n",
              "       [-0.25039146],\n",
              "       [-0.25039146],\n",
              "       [-0.25039146],\n",
              "       [-0.25039146],\n",
              "       [-0.25039146],\n",
              "       [-0.13588317],\n",
              "       [-0.13588317],\n",
              "       [-0.09771374],\n",
              "       [-0.09771374],\n",
              "       [-0.05954431],\n",
              "       [-0.05954431],\n",
              "       [-0.02137488],\n",
              "       [-0.02137488],\n",
              "       [-0.02137488],\n",
              "       [-0.02137488],\n",
              "       [-0.02137488],\n",
              "       [-0.02137488],\n",
              "       [ 0.01679455],\n",
              "       [ 0.01679455],\n",
              "       [ 0.05496398],\n",
              "       [ 0.05496398],\n",
              "       [ 0.05496398],\n",
              "       [ 0.05496398],\n",
              "       [ 0.05496398],\n",
              "       [ 0.05496398],\n",
              "       [ 0.09313341],\n",
              "       [ 0.09313341],\n",
              "       [ 0.09313341],\n",
              "       [ 0.09313341],\n",
              "       [ 0.09313341],\n",
              "       [ 0.09313341],\n",
              "       [ 0.13130284],\n",
              "       [ 0.13130284],\n",
              "       [ 0.16947227],\n",
              "       [ 0.16947227],\n",
              "       [ 0.16947227],\n",
              "       [ 0.16947227],\n",
              "       [ 0.24581112],\n",
              "       [ 0.24581112],\n",
              "       [ 0.24581112],\n",
              "       [ 0.24581112],\n",
              "       [ 0.32214998],\n",
              "       [ 0.32214998],\n",
              "       [ 0.36031941],\n",
              "       [ 0.36031941],\n",
              "       [ 0.39848884],\n",
              "       [ 0.39848884],\n",
              "       [ 0.39848884],\n",
              "       [ 0.39848884],\n",
              "       [ 0.39848884],\n",
              "       [ 0.39848884],\n",
              "       [ 0.43665827],\n",
              "       [ 0.43665827],\n",
              "       [ 0.4748277 ],\n",
              "       [ 0.4748277 ],\n",
              "       [ 0.4748277 ],\n",
              "       [ 0.4748277 ],\n",
              "       [ 0.51299713],\n",
              "       [ 0.51299713],\n",
              "       [ 0.55116656],\n",
              "       [ 0.55116656],\n",
              "       [ 0.58933599],\n",
              "       [ 0.58933599],\n",
              "       [ 0.62750542],\n",
              "       [ 0.62750542],\n",
              "       [ 0.62750542],\n",
              "       [ 0.62750542],\n",
              "       [ 0.66567484],\n",
              "       [ 0.66567484],\n",
              "       [ 0.66567484],\n",
              "       [ 0.66567484],\n",
              "       [ 0.66567484],\n",
              "       [ 0.66567484],\n",
              "       [ 0.66567484],\n",
              "       [ 0.66567484],\n",
              "       [ 0.66567484],\n",
              "       [ 0.66567484],\n",
              "       [ 0.66567484],\n",
              "       [ 0.66567484],\n",
              "       [ 0.70384427],\n",
              "       [ 0.70384427],\n",
              "       [ 0.78018313],\n",
              "       [ 0.78018313],\n",
              "       [ 0.93286085],\n",
              "       [ 0.93286085],\n",
              "       [ 0.97103028],\n",
              "       [ 0.97103028],\n",
              "       [ 1.00919971],\n",
              "       [ 1.00919971],\n",
              "       [ 1.00919971],\n",
              "       [ 1.00919971],\n",
              "       [ 1.00919971],\n",
              "       [ 1.00919971],\n",
              "       [ 1.04736914],\n",
              "       [ 1.04736914],\n",
              "       [ 1.04736914],\n",
              "       [ 1.04736914],\n",
              "       [ 1.23821628],\n",
              "       [ 1.23821628],\n",
              "       [ 1.390894  ],\n",
              "       [ 1.390894  ],\n",
              "       [ 1.42906343],\n",
              "       [ 1.42906343],\n",
              "       [ 1.46723286],\n",
              "       [ 1.46723286],\n",
              "       [ 1.54357172],\n",
              "       [ 1.54357172],\n",
              "       [ 1.61991057],\n",
              "       [ 1.61991057],\n",
              "       [ 1.61991057],\n",
              "       [ 1.61991057],\n",
              "       [ 2.00160487],\n",
              "       [ 2.00160487],\n",
              "       [ 2.26879087],\n",
              "       [ 2.26879087],\n",
              "       [ 2.49780745],\n",
              "       [ 2.49780745],\n",
              "       [ 2.91767117],\n",
              "       [ 2.91767117]])"
            ]
          },
          "metadata": {},
          "execution_count": 128
        }
      ]
    },
    {
      "cell_type": "code",
      "source": [
        "def viz_linear():\n",
        "  sns.scatter(x,y,color='red')\n",
        "  sns.plot(x,prediction,color='blue')\n",
        "\n",
        "  viz_linear()"
      ],
      "metadata": {
        "id": "U9xRyVgWYJoA"
      },
      "execution_count": null,
      "outputs": []
    },
    {
      "cell_type": "code",
      "source": [
        "sns.scatterplot(df['Age'],df['Annual Income (k$)'],color='red')"
      ],
      "metadata": {
        "colab": {
          "base_uri": "https://localhost:8080/",
          "height": 351
        },
        "id": "5mQSZi_3X3I0",
        "outputId": "0ac432fb-b279-40bb-bf88-1de9f08b3569"
      },
      "execution_count": null,
      "outputs": [
        {
          "output_type": "stream",
          "name": "stderr",
          "text": [
            "/usr/local/lib/python3.7/dist-packages/seaborn/_decorators.py:43: FutureWarning: Pass the following variables as keyword args: x, y. From version 0.12, the only valid positional argument will be `data`, and passing other arguments without an explicit keyword will result in an error or misinterpretation.\n",
            "  FutureWarning\n"
          ]
        },
        {
          "output_type": "execute_result",
          "data": {
            "text/plain": [
              "<matplotlib.axes._subplots.AxesSubplot at 0x7f998b054810>"
            ]
          },
          "metadata": {},
          "execution_count": 129
        },
        {
          "output_type": "display_data",
          "data": {
            "text/plain": [
              "<Figure size 432x288 with 1 Axes>"
            ],
            "image/png": "[encoded data removed]"
          },
          "metadata": {
            "needs_background": "light"
          }
        }
      ]
    },
    {
      "cell_type": "code",
      "source": [
        "# measure the performance using evaluation metrices"
      ],
      "metadata": {
        "id": "xCMIDH2bYwxX"
      },
      "execution_count": null,
      "outputs": []
    },
    {
      "cell_type": "code",
      "source": [
        "from sklearn import metrics\n",
        "from sklearn.metrics import mean_squared_error"
      ],
      "metadata": {
        "id": "n8EE_d3GYNLI"
      },
      "execution_count": null,
      "outputs": []
    },
    {
      "cell_type": "code",
      "source": [
        "metrics.r2_score(y,prediction)"
      ],
      "metadata": {
        "colab": {
          "base_uri": "https://localhost:8080/"
        },
        "id": "rn_lLAUkYM9T",
        "outputId": "450456bb-aaff-45ba-867e-36b5406f87b3"
      },
      "execution_count": null,
      "outputs": [
        {
          "output_type": "execute_result",
          "data": {
            "text/plain": [
              "1.0"
            ]
          },
          "metadata": {},
          "execution_count": 132
        }
      ]
    },
    {
      "cell_type": "code",
      "source": [
        "np.sqrt(mean_squared_error(y,prediction))"
      ],
      "metadata": {
        "colab": {
          "base_uri": "https://localhost:8080/"
        },
        "id": "5xalWv-gYMuI",
        "outputId": "fb74762d-2e2c-4483-9b98-3ffed960f915"
      },
      "execution_count": null,
      "outputs": [
        {
          "output_type": "execute_result",
          "data": {
            "text/plain": [
              "6.779519510154381e-16"
            ]
          },
          "metadata": {},
          "execution_count": 133
        }
      ]
    },
    {
      "cell_type": "code",
      "source": [
        "metrics.r2_score(y,prediction)"
      ],
      "metadata": {
        "colab": {
          "base_uri": "https://localhost:8080/"
        },
        "id": "82Uxz2HKOpnx",
        "outputId": "e5140815-abfc-4ebe-db87-4f9ede0f8c0e"
      },
      "execution_count": null,
      "outputs": [
        {
          "output_type": "execute_result",
          "data": {
            "text/plain": [
              "1.0"
            ]
          },
          "metadata": {},
          "execution_count": 116
        }
      ]
    },
    {
      "cell_type": "code",
      "source": [
        "print('R_squared:',metrics.r2_score(y,prediction))\n",
        "print('MSE:',mean_squared_error(y,prediction))\n",
        "print('RMSE:',np.sqrt(mean_squared_error(y,prediction)))"
      ],
      "metadata": {
        "colab": {
          "base_uri": "https://localhost:8080/"
        },
        "id": "2U4C4pLZOpYH",
        "outputId": "6d3cf4fa-f8ed-4506-b457-71460cb7e4d9"
      },
      "execution_count": null,
      "outputs": [
        {
          "output_type": "stream",
          "name": "stdout",
          "text": [
            "R_squared: 1.0\n",
            "MSE: 4.59618847885639e-31\n",
            "RMSE: 6.779519510154381e-16\n"
          ]
        }
      ]
    }
  ],
  "metadata": {
    "colab": {
      "collapsed_sections": [],
      "provenance": []
    },
    "kernelspec": {
      "display_name": "Python 3",
      "name": "python3"
    },
    "language_info": {
      "name": "python"
    }
  },
  "nbformat": 4,
  "nbformat_minor": 0
}